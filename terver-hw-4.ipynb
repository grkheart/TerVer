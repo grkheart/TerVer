{
 "cells": [
  {
   "cell_type": "code",
   "execution_count": 1,
   "id": "6923bf70",
   "metadata": {
    "_cell_guid": "b1076dfc-b9ad-4769-8c92-a6c4dae69d19",
    "_uuid": "8f2839f25d086af736a60e9eeb907d3b93b6e0e5",
    "execution": {
     "iopub.execute_input": "2022-04-14T05:55:06.966193Z",
     "iopub.status.busy": "2022-04-14T05:55:06.965848Z",
     "iopub.status.idle": "2022-04-14T05:55:06.977241Z",
     "shell.execute_reply": "2022-04-14T05:55:06.976532Z"
    },
    "papermill": {
     "duration": 0.044861,
     "end_time": "2022-04-14T05:55:06.979344",
     "exception": false,
     "start_time": "2022-04-14T05:55:06.934483",
     "status": "completed"
    },
    "tags": []
   },
   "outputs": [],
   "source": [
    "# This Python 3 environment comes with many helpful analytics libraries installed\n",
    "# It is defined by the kaggle/python Docker image: https://github.com/kaggle/docker-python\n",
    "# For example, here's several helpful packages to load\n",
    "\n",
    "import numpy as np # linear algebra\n",
    "import pandas as pd # data processing, CSV file I/O (e.g. pd.read_csv)\n",
    "\n",
    "# Input data files are available in the read-only \"../input/\" directory\n",
    "# For example, running this (by clicking run or pressing Shift+Enter) will list all files under the input directory\n",
    "\n",
    "import os\n",
    "for dirname, _, filenames in os.walk('/kaggle/input'):\n",
    "    for filename in filenames:\n",
    "        print(os.path.join(dirname, filename))\n",
    "\n",
    "# You can write up to 20GB to the current directory (/kaggle/working/) that gets preserved as output when you create a version using \"Save & Run All\" \n",
    "# You can also write temporary files to /kaggle/temp/, but they won't be saved outside of the current session"
   ]
  },
  {
   "cell_type": "markdown",
   "id": "0bb134af",
   "metadata": {
    "papermill": {
     "duration": 0.029142,
     "end_time": "2022-04-14T05:55:07.037089",
     "exception": false,
     "start_time": "2022-04-14T05:55:07.007947",
     "status": "completed"
    },
    "tags": []
   },
   "source": [
    "### Задача №1\n",
    "\n",
    "Случайная непрерывная величина A имеет равномерное распределение на промежутке (200, 800].\n",
    "Найдите ее среднее значение и дисперсию.\n",
    "\n",
    "\n",
    " \n",
    " \n",
    "M\n",
    "(\n",
    "X\n",
    ")\n",
    "=\n",
    "a\n",
    "+\n",
    "b\n",
    "2\n",
    "=\n",
    "200\n",
    "+\n",
    "800\n",
    "2\n",
    "=\n",
    "500\n",
    " - среднее\n",
    "\n",
    " \n",
    " \n",
    "D\n",
    "(\n",
    "X\n",
    ")\n",
    "=\n",
    "(\n",
    "b\n",
    "−\n",
    "a\n",
    ")\n",
    "2\n",
    "12\n",
    "=\n",
    "(\n",
    "800\n",
    "−\n",
    "200\n",
    ")\n",
    "2\n",
    "12\n",
    "=\n",
    "30000\n",
    " - дисперсия"
   ]
  },
  {
   "cell_type": "code",
   "execution_count": 2,
   "id": "4d64cd5e",
   "metadata": {
    "execution": {
     "iopub.execute_input": "2022-04-14T05:55:07.096225Z",
     "iopub.status.busy": "2022-04-14T05:55:07.095677Z",
     "iopub.status.idle": "2022-04-14T05:55:08.210964Z",
     "shell.execute_reply": "2022-04-14T05:55:08.210345Z"
    },
    "papermill": {
     "duration": 1.147404,
     "end_time": "2022-04-14T05:55:08.213317",
     "exception": false,
     "start_time": "2022-04-14T05:55:07.065913",
     "status": "completed"
    },
    "tags": []
   },
   "outputs": [],
   "source": [
    "import pandas as pd\n",
    "import numpy as np\n",
    "import seaborn as sns\n",
    "import math\n",
    "from matplotlib import pyplot as plt"
   ]
  },
  {
   "cell_type": "code",
   "execution_count": 3,
   "id": "ace16433",
   "metadata": {
    "execution": {
     "iopub.execute_input": "2022-04-14T05:55:08.272553Z",
     "iopub.status.busy": "2022-04-14T05:55:08.272290Z",
     "iopub.status.idle": "2022-04-14T05:55:08.276432Z",
     "shell.execute_reply": "2022-04-14T05:55:08.275632Z"
    },
    "papermill": {
     "duration": 0.03757,
     "end_time": "2022-04-14T05:55:08.279580",
     "exception": false,
     "start_time": "2022-04-14T05:55:08.242010",
     "status": "completed"
    },
    "tags": []
   },
   "outputs": [
    {
     "name": "stdout",
     "output_type": "stream",
     "text": [
      "Среднее: 500.0\n",
      "Дисперсия: 30000.0\n"
     ]
    }
   ],
   "source": [
    "print(f'Среднее: {(200+800)/2}')\n",
    "print(f'Дисперсия: {(800-200)**2/12}')"
   ]
  },
  {
   "cell_type": "markdown",
   "id": "bf8a39f3",
   "metadata": {
    "papermill": {
     "duration": 0.029723,
     "end_time": "2022-04-14T05:55:08.340096",
     "exception": false,
     "start_time": "2022-04-14T05:55:08.310373",
     "status": "completed"
    },
    "tags": []
   },
   "source": [
    "### Задача №2\n",
    "О случайной непрерывной равномерно распределенной величине B известно, что ее дисперсия равна 0.2.\n",
    "Можно ли найти правую границу величины B и ее среднее значение зная, что левая граница равна 0.5?\n",
    "Если да, найдите ее.\n"
   ]
  },
  {
   "cell_type": "code",
   "execution_count": 4,
   "id": "022d7add",
   "metadata": {
    "execution": {
     "iopub.execute_input": "2022-04-14T05:55:08.399132Z",
     "iopub.status.busy": "2022-04-14T05:55:08.398827Z",
     "iopub.status.idle": "2022-04-14T05:55:08.404541Z",
     "shell.execute_reply": "2022-04-14T05:55:08.403700Z"
    },
    "papermill": {
     "duration": 0.037771,
     "end_time": "2022-04-14T05:55:08.407001",
     "exception": false,
     "start_time": "2022-04-14T05:55:08.369230",
     "status": "completed"
    },
    "tags": []
   },
   "outputs": [
    {
     "name": "stdout",
     "output_type": "stream",
     "text": [
      "Правая граница: 2.049193338482967\n",
      "Среднее 1.2745966692414834\n"
     ]
    }
   ],
   "source": [
    "a = 0.5\n",
    "Dx = 0.2\n",
    "b = (12*Dx)**0.5 + a\n",
    "\n",
    "Mx = (a+b)/2\n",
    "\n",
    "print('Правая граница:', b)\n",
    "print('Среднее', Mx)"
   ]
  },
  {
   "cell_type": "markdown",
   "id": "5e943893",
   "metadata": {
    "papermill": {
     "duration": 0.029049,
     "end_time": "2022-04-14T05:55:08.466908",
     "exception": false,
     "start_time": "2022-04-14T05:55:08.437859",
     "status": "completed"
    },
    "tags": []
   },
   "source": [
    "### Задача №3 \n",
    "Непрерывная случайная величина X распределена нормально и задана плотностью распределения\n",
    "f(x) = (1 / (4 * sqrt(2*pi))) * (exp(-(x+2)**2) / 32).\n",
    "Найдите:\n",
    "а). M(X)\n",
    "б). D(X)\n",
    "в). std(X) (среднее квадратичное отклонение)\n"
   ]
  },
  {
   "cell_type": "markdown",
   "id": "043d73fe",
   "metadata": {
    "papermill": {
     "duration": 0.028644,
     "end_time": "2022-04-14T05:55:08.524866",
     "exception": false,
     "start_time": "2022-04-14T05:55:08.496222",
     "status": "completed"
    },
    "tags": []
   },
   "source": [
    "\n",
    " \n",
    " \n",
    "f\n",
    "(\n",
    "x\n",
    ")\n",
    "=\n",
    "1\n",
    "σ\n",
    "⋅\n",
    "2\n",
    "⋅\n",
    "μ\n",
    "⋅\n",
    "e\n",
    "−\n",
    "(\n",
    "x\n",
    "−\n",
    "μ\n",
    ")\n",
    "2\n",
    "2\n",
    "σ\n",
    "2\n",
    "\n",
    "а) \n",
    "M\n",
    "(\n",
    "X\n",
    ")\n",
    "=\n",
    "−\n",
    "2\n",
    "\n",
    "б) \n",
    "D\n",
    "(\n",
    "X\n",
    ")\n",
    "=\n",
    "16\n",
    "\n",
    "в)std(X) =  2.0 "
   ]
  },
  {
   "cell_type": "markdown",
   "id": "dcea143a",
   "metadata": {
    "papermill": {
     "duration": 0.028803,
     "end_time": "2022-04-14T05:55:08.583072",
     "exception": false,
     "start_time": "2022-04-14T05:55:08.554269",
     "status": "completed"
    },
    "tags": []
   },
   "source": [
    "### Задача №4\n",
    "Рост взрослого населения города X имеет нормальное распределение.\n",
    "Причем, средний рост равен 174 см, а среднее квадратичное отклонение равно 8 см.\n",
    "Какова вероятность того, что случайным образом выбранный взрослый человек имеет рост:\n",
    "а). больше 182 см\n",
    "б). больше 190 см\n",
    "в). от 166 см до 190 см\n",
    "г). от 166 см до 182 см\n",
    "д). от 158 см до 190 см\n",
    "е). не выше 150 см или не ниже 190 см\n",
    "ё). не выше 150 см или не ниже 198 см\n",
    "ж). ниже 166 см.\n",
    "\n"
   ]
  },
  {
   "cell_type": "code",
   "execution_count": 5,
   "id": "3cb2ebfc",
   "metadata": {
    "execution": {
     "iopub.execute_input": "2022-04-14T05:55:08.643054Z",
     "iopub.status.busy": "2022-04-14T05:55:08.642519Z",
     "iopub.status.idle": "2022-04-14T05:55:08.645995Z",
     "shell.execute_reply": "2022-04-14T05:55:08.645417Z"
    },
    "papermill": {
     "duration": 0.035483,
     "end_time": "2022-04-14T05:55:08.647782",
     "exception": false,
     "start_time": "2022-04-14T05:55:08.612299",
     "status": "completed"
    },
    "tags": []
   },
   "outputs": [],
   "source": [
    "mu = 174\n",
    "std = 8"
   ]
  },
  {
   "cell_type": "code",
   "execution_count": 6,
   "id": "de72f23b",
   "metadata": {
    "execution": {
     "iopub.execute_input": "2022-04-14T05:55:08.707998Z",
     "iopub.status.busy": "2022-04-14T05:55:08.707495Z",
     "iopub.status.idle": "2022-04-14T05:55:08.710836Z",
     "shell.execute_reply": "2022-04-14T05:55:08.710309Z"
    },
    "papermill": {
     "duration": 0.035649,
     "end_time": "2022-04-14T05:55:08.712614",
     "exception": false,
     "start_time": "2022-04-14T05:55:08.676965",
     "status": "completed"
    },
    "tags": []
   },
   "outputs": [],
   "source": [
    "def find_prob(x):\n",
    "    return (x - mu) / std"
   ]
  },
  {
   "cell_type": "code",
   "execution_count": 7,
   "id": "f8606720",
   "metadata": {
    "execution": {
     "iopub.execute_input": "2022-04-14T05:55:08.773421Z",
     "iopub.status.busy": "2022-04-14T05:55:08.773122Z",
     "iopub.status.idle": "2022-04-14T05:55:08.780981Z",
     "shell.execute_reply": "2022-04-14T05:55:08.780197Z"
    },
    "papermill": {
     "duration": 0.040762,
     "end_time": "2022-04-14T05:55:08.783189",
     "exception": false,
     "start_time": "2022-04-14T05:55:08.742427",
     "status": "completed"
    },
    "tags": []
   },
   "outputs": [
    {
     "data": {
      "text/plain": [
       "1.0"
      ]
     },
     "execution_count": 7,
     "metadata": {},
     "output_type": "execute_result"
    }
   ],
   "source": [
    "z1 = find_prob(182)\n",
    "z1"
   ]
  },
  {
   "cell_type": "code",
   "execution_count": 8,
   "id": "afe54d73",
   "metadata": {
    "execution": {
     "iopub.execute_input": "2022-04-14T05:55:08.844447Z",
     "iopub.status.busy": "2022-04-14T05:55:08.844195Z",
     "iopub.status.idle": "2022-04-14T05:55:08.847989Z",
     "shell.execute_reply": "2022-04-14T05:55:08.847099Z"
    },
    "papermill": {
     "duration": 0.036512,
     "end_time": "2022-04-14T05:55:08.849992",
     "exception": false,
     "start_time": "2022-04-14T05:55:08.813480",
     "status": "completed"
    },
    "tags": []
   },
   "outputs": [],
   "source": [
    "p1 = 0.16"
   ]
  },
  {
   "cell_type": "code",
   "execution_count": 9,
   "id": "bd4ee481",
   "metadata": {
    "execution": {
     "iopub.execute_input": "2022-04-14T05:55:08.913749Z",
     "iopub.status.busy": "2022-04-14T05:55:08.913481Z",
     "iopub.status.idle": "2022-04-14T05:55:08.918848Z",
     "shell.execute_reply": "2022-04-14T05:55:08.918065Z"
    },
    "papermill": {
     "duration": 0.039778,
     "end_time": "2022-04-14T05:55:08.920768",
     "exception": false,
     "start_time": "2022-04-14T05:55:08.880990",
     "status": "completed"
    },
    "tags": []
   },
   "outputs": [
    {
     "data": {
      "text/plain": [
       "2.0"
      ]
     },
     "execution_count": 9,
     "metadata": {},
     "output_type": "execute_result"
    }
   ],
   "source": [
    "z2 = find_prob(190)\n",
    "z2"
   ]
  },
  {
   "cell_type": "code",
   "execution_count": 10,
   "id": "b01c3623",
   "metadata": {
    "execution": {
     "iopub.execute_input": "2022-04-14T05:55:08.983806Z",
     "iopub.status.busy": "2022-04-14T05:55:08.983552Z",
     "iopub.status.idle": "2022-04-14T05:55:08.987209Z",
     "shell.execute_reply": "2022-04-14T05:55:08.986403Z"
    },
    "papermill": {
     "duration": 0.037878,
     "end_time": "2022-04-14T05:55:08.989305",
     "exception": false,
     "start_time": "2022-04-14T05:55:08.951427",
     "status": "completed"
    },
    "tags": []
   },
   "outputs": [],
   "source": [
    "p2 = 0.023"
   ]
  },
  {
   "cell_type": "code",
   "execution_count": 11,
   "id": "55f1e410",
   "metadata": {
    "execution": {
     "iopub.execute_input": "2022-04-14T05:55:09.052462Z",
     "iopub.status.busy": "2022-04-14T05:55:09.052195Z",
     "iopub.status.idle": "2022-04-14T05:55:09.057599Z",
     "shell.execute_reply": "2022-04-14T05:55:09.056787Z"
    },
    "papermill": {
     "duration": 0.03911,
     "end_time": "2022-04-14T05:55:09.059628",
     "exception": false,
     "start_time": "2022-04-14T05:55:09.020518",
     "status": "completed"
    },
    "tags": []
   },
   "outputs": [
    {
     "data": {
      "text/plain": [
       "-1.0"
      ]
     },
     "execution_count": 11,
     "metadata": {},
     "output_type": "execute_result"
    }
   ],
   "source": [
    "z3a = find_prob(166)\n",
    "z3a"
   ]
  },
  {
   "cell_type": "code",
   "execution_count": 12,
   "id": "8272049b",
   "metadata": {
    "execution": {
     "iopub.execute_input": "2022-04-14T05:55:09.123018Z",
     "iopub.status.busy": "2022-04-14T05:55:09.122730Z",
     "iopub.status.idle": "2022-04-14T05:55:09.126684Z",
     "shell.execute_reply": "2022-04-14T05:55:09.125845Z"
    },
    "papermill": {
     "duration": 0.037688,
     "end_time": "2022-04-14T05:55:09.128634",
     "exception": false,
     "start_time": "2022-04-14T05:55:09.090946",
     "status": "completed"
    },
    "tags": []
   },
   "outputs": [],
   "source": [
    "p3 = 0.818"
   ]
  },
  {
   "cell_type": "code",
   "execution_count": 13,
   "id": "ca54f8bb",
   "metadata": {
    "execution": {
     "iopub.execute_input": "2022-04-14T05:55:09.191244Z",
     "iopub.status.busy": "2022-04-14T05:55:09.190917Z",
     "iopub.status.idle": "2022-04-14T05:55:09.195032Z",
     "shell.execute_reply": "2022-04-14T05:55:09.194274Z"
    },
    "papermill": {
     "duration": 0.03785,
     "end_time": "2022-04-14T05:55:09.196982",
     "exception": false,
     "start_time": "2022-04-14T05:55:09.159132",
     "status": "completed"
    },
    "tags": []
   },
   "outputs": [],
   "source": [
    "p4 = 0.681"
   ]
  },
  {
   "cell_type": "code",
   "execution_count": 14,
   "id": "9e733288",
   "metadata": {
    "execution": {
     "iopub.execute_input": "2022-04-14T05:55:09.259979Z",
     "iopub.status.busy": "2022-04-14T05:55:09.259730Z",
     "iopub.status.idle": "2022-04-14T05:55:09.265271Z",
     "shell.execute_reply": "2022-04-14T05:55:09.264480Z"
    },
    "papermill": {
     "duration": 0.039516,
     "end_time": "2022-04-14T05:55:09.267333",
     "exception": false,
     "start_time": "2022-04-14T05:55:09.227817",
     "status": "completed"
    },
    "tags": []
   },
   "outputs": [
    {
     "data": {
      "text/plain": [
       "-2.0"
      ]
     },
     "execution_count": 14,
     "metadata": {},
     "output_type": "execute_result"
    }
   ],
   "source": [
    "z5a = find_prob(158)\n",
    "z5a"
   ]
  },
  {
   "cell_type": "code",
   "execution_count": 15,
   "id": "3893f7d5",
   "metadata": {
    "execution": {
     "iopub.execute_input": "2022-04-14T05:55:09.331069Z",
     "iopub.status.busy": "2022-04-14T05:55:09.330757Z",
     "iopub.status.idle": "2022-04-14T05:55:09.334426Z",
     "shell.execute_reply": "2022-04-14T05:55:09.333611Z"
    },
    "papermill": {
     "duration": 0.038259,
     "end_time": "2022-04-14T05:55:09.336328",
     "exception": false,
     "start_time": "2022-04-14T05:55:09.298069",
     "status": "completed"
    },
    "tags": []
   },
   "outputs": [],
   "source": [
    "p5 = 0.954"
   ]
  },
  {
   "cell_type": "code",
   "execution_count": 16,
   "id": "65092dbf",
   "metadata": {
    "execution": {
     "iopub.execute_input": "2022-04-14T05:55:09.399465Z",
     "iopub.status.busy": "2022-04-14T05:55:09.399207Z",
     "iopub.status.idle": "2022-04-14T05:55:09.404431Z",
     "shell.execute_reply": "2022-04-14T05:55:09.403658Z"
    },
    "papermill": {
     "duration": 0.039411,
     "end_time": "2022-04-14T05:55:09.406431",
     "exception": false,
     "start_time": "2022-04-14T05:55:09.367020",
     "status": "completed"
    },
    "tags": []
   },
   "outputs": [
    {
     "data": {
      "text/plain": [
       "-3.0"
      ]
     },
     "execution_count": 16,
     "metadata": {},
     "output_type": "execute_result"
    }
   ],
   "source": [
    "z6a = find_prob(150)\n",
    "z6a"
   ]
  },
  {
   "cell_type": "code",
   "execution_count": 17,
   "id": "4a5e434e",
   "metadata": {
    "execution": {
     "iopub.execute_input": "2022-04-14T05:55:09.470627Z",
     "iopub.status.busy": "2022-04-14T05:55:09.470086Z",
     "iopub.status.idle": "2022-04-14T05:55:09.473977Z",
     "shell.execute_reply": "2022-04-14T05:55:09.473386Z"
    },
    "papermill": {
     "duration": 0.03847,
     "end_time": "2022-04-14T05:55:09.475870",
     "exception": false,
     "start_time": "2022-04-14T05:55:09.437400",
     "status": "completed"
    },
    "tags": []
   },
   "outputs": [],
   "source": [
    "p6 = 0.025"
   ]
  },
  {
   "cell_type": "code",
   "execution_count": 18,
   "id": "7ec17ac2",
   "metadata": {
    "execution": {
     "iopub.execute_input": "2022-04-14T05:55:09.539794Z",
     "iopub.status.busy": "2022-04-14T05:55:09.539258Z",
     "iopub.status.idle": "2022-04-14T05:55:09.544793Z",
     "shell.execute_reply": "2022-04-14T05:55:09.544118Z"
    },
    "papermill": {
     "duration": 0.039798,
     "end_time": "2022-04-14T05:55:09.546688",
     "exception": false,
     "start_time": "2022-04-14T05:55:09.506890",
     "status": "completed"
    },
    "tags": []
   },
   "outputs": [
    {
     "data": {
      "text/plain": [
       "3.0"
      ]
     },
     "execution_count": 18,
     "metadata": {},
     "output_type": "execute_result"
    }
   ],
   "source": [
    "z7b = find_prob(198)\n",
    "z7b"
   ]
  },
  {
   "cell_type": "code",
   "execution_count": 19,
   "id": "8afa48a8",
   "metadata": {
    "execution": {
     "iopub.execute_input": "2022-04-14T05:55:09.611705Z",
     "iopub.status.busy": "2022-04-14T05:55:09.611166Z",
     "iopub.status.idle": "2022-04-14T05:55:09.615100Z",
     "shell.execute_reply": "2022-04-14T05:55:09.614465Z"
    },
    "papermill": {
     "duration": 0.038745,
     "end_time": "2022-04-14T05:55:09.616986",
     "exception": false,
     "start_time": "2022-04-14T05:55:09.578241",
     "status": "completed"
    },
    "tags": []
   },
   "outputs": [],
   "source": [
    "p7 = 0.004"
   ]
  },
  {
   "cell_type": "code",
   "execution_count": 20,
   "id": "99717d5a",
   "metadata": {
    "execution": {
     "iopub.execute_input": "2022-04-14T05:55:09.681803Z",
     "iopub.status.busy": "2022-04-14T05:55:09.681277Z",
     "iopub.status.idle": "2022-04-14T05:55:09.686916Z",
     "shell.execute_reply": "2022-04-14T05:55:09.686120Z"
    },
    "papermill": {
     "duration": 0.040353,
     "end_time": "2022-04-14T05:55:09.688797",
     "exception": false,
     "start_time": "2022-04-14T05:55:09.648444",
     "status": "completed"
    },
    "tags": []
   },
   "outputs": [
    {
     "data": {
      "text/plain": [
       "-1.0"
      ]
     },
     "execution_count": 20,
     "metadata": {},
     "output_type": "execute_result"
    }
   ],
   "source": [
    "z8 = find_prob(166)\n",
    "z8"
   ]
  },
  {
   "cell_type": "code",
   "execution_count": 21,
   "id": "b54763c9",
   "metadata": {
    "execution": {
     "iopub.execute_input": "2022-04-14T05:55:09.754763Z",
     "iopub.status.busy": "2022-04-14T05:55:09.754196Z",
     "iopub.status.idle": "2022-04-14T05:55:09.757966Z",
     "shell.execute_reply": "2022-04-14T05:55:09.757469Z"
    },
    "papermill": {
     "duration": 0.03902,
     "end_time": "2022-04-14T05:55:09.759848",
     "exception": false,
     "start_time": "2022-04-14T05:55:09.720828",
     "status": "completed"
    },
    "tags": []
   },
   "outputs": [],
   "source": [
    "p8 = 0.159"
   ]
  },
  {
   "cell_type": "markdown",
   "id": "62e93836",
   "metadata": {
    "papermill": {
     "duration": 0.032476,
     "end_time": "2022-04-14T05:55:09.824488",
     "exception": false,
     "start_time": "2022-04-14T05:55:09.792012",
     "status": "completed"
    },
    "tags": []
   },
   "source": [
    "### Результат:\n",
    "\n",
    "а) Больше 182см = 0.16\n",
    "\n",
    "б) Больше 190см = 0.023\n",
    "\n",
    "в) От 166см до 190см = 0.818\n",
    "\n",
    "г) От 166см до 182см = 0.681\n",
    "\n",
    "д) От 158см до 190см = 0.954\n",
    "\n",
    "е) Не выше 150см или не ниже 190см = 0.025\n",
    "\n",
    "ё) Не выше 150см или не ниже 198см = 0.004\n",
    "\n",
    "ж) Ниже 166см = 0.159"
   ]
  },
  {
   "cell_type": "markdown",
   "id": "0b6e0b90",
   "metadata": {
    "papermill": {
     "duration": 0.031704,
     "end_time": "2022-04-14T05:55:09.888877",
     "exception": false,
     "start_time": "2022-04-14T05:55:09.857173",
     "status": "completed"
    },
    "tags": []
   },
   "source": [
    "### Задача №5\n",
    "\n",
    "На сколько сигм (средних квадратичных отклонений) отклоняется рост человека, равный 190 см, от\n",
    "математического ожидания роста в популяции, в которой M(X) = 178 см и D(X) = 25 кв.см?\n",
    "\n"
   ]
  },
  {
   "cell_type": "code",
   "execution_count": 22,
   "id": "86e9a34a",
   "metadata": {
    "execution": {
     "iopub.execute_input": "2022-04-14T05:55:09.954733Z",
     "iopub.status.busy": "2022-04-14T05:55:09.953989Z",
     "iopub.status.idle": "2022-04-14T05:55:09.958551Z",
     "shell.execute_reply": "2022-04-14T05:55:09.957971Z"
    },
    "papermill": {
     "duration": 0.039652,
     "end_time": "2022-04-14T05:55:09.960473",
     "exception": false,
     "start_time": "2022-04-14T05:55:09.920821",
     "status": "completed"
    },
    "tags": []
   },
   "outputs": [],
   "source": [
    "from math import sqrt\n",
    "x = 190\n",
    "M = 178\n",
    "D = 25"
   ]
  },
  {
   "cell_type": "code",
   "execution_count": 23,
   "id": "4f040553",
   "metadata": {
    "execution": {
     "iopub.execute_input": "2022-04-14T05:55:10.027433Z",
     "iopub.status.busy": "2022-04-14T05:55:10.026869Z",
     "iopub.status.idle": "2022-04-14T05:55:10.033062Z",
     "shell.execute_reply": "2022-04-14T05:55:10.032249Z"
    },
    "papermill": {
     "duration": 0.041889,
     "end_time": "2022-04-14T05:55:10.034999",
     "exception": false,
     "start_time": "2022-04-14T05:55:09.993110",
     "status": "completed"
    },
    "tags": []
   },
   "outputs": [
    {
     "data": {
      "text/plain": [
       "2.4"
      ]
     },
     "execution_count": 23,
     "metadata": {},
     "output_type": "execute_result"
    }
   ],
   "source": [
    "std = (x - M) / sqrt(D)\n",
    "std"
   ]
  },
  {
   "cell_type": "code",
   "execution_count": 24,
   "id": "cb2836de",
   "metadata": {
    "execution": {
     "iopub.execute_input": "2022-04-14T05:55:10.101742Z",
     "iopub.status.busy": "2022-04-14T05:55:10.101221Z",
     "iopub.status.idle": "2022-04-14T05:55:10.106618Z",
     "shell.execute_reply": "2022-04-14T05:55:10.105630Z"
    },
    "papermill": {
     "duration": 0.0416,
     "end_time": "2022-04-14T05:55:10.109143",
     "exception": false,
     "start_time": "2022-04-14T05:55:10.067543",
     "status": "completed"
    },
    "tags": []
   },
   "outputs": [
    {
     "name": "stdout",
     "output_type": "stream",
     "text": [
      "отклонение 2.4 сигмы\n"
     ]
    }
   ],
   "source": [
    "print ('отклонение 2.4 сигмы')"
   ]
  }
 ],
 "metadata": {
  "kernelspec": {
   "display_name": "Python 3",
   "language": "python",
   "name": "python3"
  },
  "language_info": {
   "codemirror_mode": {
    "name": "ipython",
    "version": 3
   },
   "file_extension": ".py",
   "mimetype": "text/x-python",
   "name": "python",
   "nbconvert_exporter": "python",
   "pygments_lexer": "ipython3",
   "version": "3.7.12"
  },
  "papermill": {
   "default_parameters": {},
   "duration": 13.65864,
   "end_time": "2022-04-14T05:55:10.863227",
   "environment_variables": {},
   "exception": null,
   "input_path": "__notebook__.ipynb",
   "output_path": "__notebook__.ipynb",
   "parameters": {},
   "start_time": "2022-04-14T05:54:57.204587",
   "version": "2.3.4"
  }
 },
 "nbformat": 4,
 "nbformat_minor": 5
}
