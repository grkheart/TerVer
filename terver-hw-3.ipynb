{
 "cells": [
  {
   "cell_type": "code",
   "execution_count": 1,
   "id": "8ff0a14a",
   "metadata": {
    "_cell_guid": "b1076dfc-b9ad-4769-8c92-a6c4dae69d19",
    "_uuid": "8f2839f25d086af736a60e9eeb907d3b93b6e0e5",
    "execution": {
     "iopub.execute_input": "2022-04-11T10:23:13.558753Z",
     "iopub.status.busy": "2022-04-11T10:23:13.557622Z",
     "iopub.status.idle": "2022-04-11T10:23:13.567140Z",
     "shell.execute_reply": "2022-04-11T10:23:13.567620Z",
     "shell.execute_reply.started": "2022-04-11T10:02:35.607311Z"
    },
    "papermill": {
     "duration": 0.033947,
     "end_time": "2022-04-11T10:23:13.567903",
     "exception": false,
     "start_time": "2022-04-11T10:23:13.533956",
     "status": "completed"
    },
    "tags": []
   },
   "outputs": [],
   "source": [
    "# This Python 3 environment comes with many helpful analytics libraries installed\n",
    "# It is defined by the kaggle/python Docker image: https://github.com/kaggle/docker-python\n",
    "# For example, here's several helpful packages to load\n",
    "\n",
    "import numpy as np # linear algebra\n",
    "import pandas as pd # data processing, CSV file I/O (e.g. pd.read_csv)\n",
    "\n",
    "# Input data files are available in the read-only \"../input/\" directory\n",
    "# For example, running this (by clicking run or pressing Shift+Enter) will list all files under the input directory\n",
    "\n",
    "import os\n",
    "for dirname, _, filenames in os.walk('/kaggle/input'):\n",
    "    for filename in filenames:\n",
    "        print(os.path.join(dirname, filename))\n",
    "\n",
    "# You can write up to 20GB to the current directory (/kaggle/working/) that gets preserved as output when you create a version using \"Save & Run All\" \n",
    "# You can also write temporary files to /kaggle/temp/, but they won't be saved outside of the current session"
   ]
  },
  {
   "cell_type": "markdown",
   "id": "f30aa5d2",
   "metadata": {
    "papermill": {
     "duration": 0.018178,
     "end_time": "2022-04-11T10:23:13.605215",
     "exception": false,
     "start_time": "2022-04-11T10:23:13.587037",
     "status": "completed"
    },
    "tags": []
   },
   "source": [
    "### Задача 1\n",
    "\n",
    "В поле ответа впишите одно число. Нецелые числа следует округлить до 8 знаков после запятой.\n",
    "\n",
    "Даны значения зарплат из выборки выпускников:\n",
    "100, 80, 75, 77, 89, 33, 45, 25, 65, 17, 30, 230, 24, 57, 55, 70, 75, 65, 84, 90, 150\n",
    " \n",
    "Используя только встроенные питоновские функции и структуры данных (т.е. без библиотек numpy, pandas и др.), посчитайте (несмещённое) среднее квадратичное отклонение для данной выборки.\n"
   ]
  },
  {
   "cell_type": "code",
   "execution_count": 2,
   "id": "31dcf9de",
   "metadata": {
    "execution": {
     "iopub.execute_input": "2022-04-11T10:23:13.648441Z",
     "iopub.status.busy": "2022-04-11T10:23:13.647361Z",
     "iopub.status.idle": "2022-04-11T10:23:13.649194Z",
     "shell.execute_reply": "2022-04-11T10:23:13.649730Z",
     "shell.execute_reply.started": "2022-04-11T10:02:35.634914Z"
    },
    "papermill": {
     "duration": 0.026035,
     "end_time": "2022-04-11T10:23:13.649925",
     "exception": false,
     "start_time": "2022-04-11T10:23:13.623890",
     "status": "completed"
    },
    "tags": []
   },
   "outputs": [],
   "source": [
    "grad_salary = [100, 80, 75, 77, 89, 33, 45, 25, 65, 17, 30, 230, 24, 57, 55, 70, 75, 65, 84, 90, 150]"
   ]
  },
  {
   "cell_type": "markdown",
   "id": "fce77fd0",
   "metadata": {
    "papermill": {
     "duration": 0.018404,
     "end_time": "2022-04-11T10:23:13.687097",
     "exception": false,
     "start_time": "2022-04-11T10:23:13.668693",
     "status": "completed"
    },
    "tags": []
   },
   "source": [
    "Вычисляем математическое ожидание:"
   ]
  },
  {
   "cell_type": "code",
   "execution_count": 3,
   "id": "3004071a",
   "metadata": {
    "execution": {
     "iopub.execute_input": "2022-04-11T10:23:13.728313Z",
     "iopub.status.busy": "2022-04-11T10:23:13.727569Z",
     "iopub.status.idle": "2022-04-11T10:23:13.734146Z",
     "shell.execute_reply": "2022-04-11T10:23:13.734596Z",
     "shell.execute_reply.started": "2022-04-11T10:02:35.640994Z"
    },
    "papermill": {
     "duration": 0.028734,
     "end_time": "2022-04-11T10:23:13.734747",
     "exception": false,
     "start_time": "2022-04-11T10:23:13.706013",
     "status": "completed"
    },
    "tags": []
   },
   "outputs": [
    {
     "data": {
      "text/plain": [
       "73.14285714285714"
      ]
     },
     "execution_count": 3,
     "metadata": {},
     "output_type": "execute_result"
    }
   ],
   "source": [
    "M = sum(grad_salary)/len(grad_salary)\n",
    "M"
   ]
  },
  {
   "cell_type": "markdown",
   "id": "61edad81",
   "metadata": {
    "papermill": {
     "duration": 0.01921,
     "end_time": "2022-04-11T10:23:13.773886",
     "exception": false,
     "start_time": "2022-04-11T10:23:13.754676",
     "status": "completed"
    },
    "tags": []
   },
   "source": [
    "Вычисляем среднеквадратическое отклонение: "
   ]
  },
  {
   "cell_type": "code",
   "execution_count": 4,
   "id": "54b7d4cc",
   "metadata": {
    "execution": {
     "iopub.execute_input": "2022-04-11T10:23:13.816004Z",
     "iopub.status.busy": "2022-04-11T10:23:13.815132Z",
     "iopub.status.idle": "2022-04-11T10:23:13.822580Z",
     "shell.execute_reply": "2022-04-11T10:23:13.823318Z",
     "shell.execute_reply.started": "2022-04-11T10:16:39.234802Z"
    },
    "papermill": {
     "duration": 0.030419,
     "end_time": "2022-04-11T10:23:13.823546",
     "exception": false,
     "start_time": "2022-04-11T10:23:13.793127",
     "status": "completed"
    },
    "tags": []
   },
   "outputs": [
    {
     "data": {
      "text/plain": [
       "46.20686994302874"
      ]
     },
     "execution_count": 4,
     "metadata": {},
     "output_type": "execute_result"
    }
   ],
   "source": [
    "sigma = pow(sum(map(lambda x : pow(x - M, 2), grad_salary))/len(grad_salary), 0.5)\n",
    "sigma"
   ]
  },
  {
   "cell_type": "markdown",
   "id": "1f935014",
   "metadata": {
    "papermill": {
     "duration": 0.029038,
     "end_time": "2022-04-11T10:23:13.880188",
     "exception": false,
     "start_time": "2022-04-11T10:23:13.851150",
     "status": "completed"
    },
    "tags": []
   },
   "source": [
    "### Задача 2\n",
    "Найдите число выбросов в выборке из задачи 1. Для определения выбросов используйте методику как при построении “усов” в boxplot, однако, как и в задаче 1, пользоваться можно только встроенными функциями и структурами данных.\n"
   ]
  },
  {
   "cell_type": "code",
   "execution_count": 5,
   "id": "af109d4e",
   "metadata": {
    "execution": {
     "iopub.execute_input": "2022-04-11T10:23:13.930579Z",
     "iopub.status.busy": "2022-04-11T10:23:13.929917Z",
     "iopub.status.idle": "2022-04-11T10:23:13.933246Z",
     "shell.execute_reply": "2022-04-11T10:23:13.933781Z",
     "shell.execute_reply.started": "2022-04-11T10:17:41.958781Z"
    },
    "papermill": {
     "duration": 0.030748,
     "end_time": "2022-04-11T10:23:13.933972",
     "exception": false,
     "start_time": "2022-04-11T10:23:13.903224",
     "status": "completed"
    },
    "tags": []
   },
   "outputs": [],
   "source": [
    "import numpy as np\n",
    "import pandas as pd"
   ]
  },
  {
   "cell_type": "code",
   "execution_count": 6,
   "id": "342bf03b",
   "metadata": {
    "execution": {
     "iopub.execute_input": "2022-04-11T10:23:13.976885Z",
     "iopub.status.busy": "2022-04-11T10:23:13.976274Z",
     "iopub.status.idle": "2022-04-11T10:23:13.982755Z",
     "shell.execute_reply": "2022-04-11T10:23:13.983324Z",
     "shell.execute_reply.started": "2022-04-11T10:18:08.829808Z"
    },
    "papermill": {
     "duration": 0.029593,
     "end_time": "2022-04-11T10:23:13.983488",
     "exception": false,
     "start_time": "2022-04-11T10:23:13.953895",
     "status": "completed"
    },
    "tags": []
   },
   "outputs": [],
   "source": [
    "sampleArr = np.array([100, 80, 75, 77, 89, 33, 45, 25, 65, 17, 30, 230, 24, 57, 55, 70, 75, 65, 84, 90, 150])\n",
    "sampleDF = pd.DataFrame({'sample': sampleArr})"
   ]
  },
  {
   "cell_type": "code",
   "execution_count": 7,
   "id": "d2831214",
   "metadata": {
    "execution": {
     "iopub.execute_input": "2022-04-11T10:23:14.027480Z",
     "iopub.status.busy": "2022-04-11T10:23:14.026869Z",
     "iopub.status.idle": "2022-04-11T10:23:14.032923Z",
     "shell.execute_reply": "2022-04-11T10:23:14.033495Z",
     "shell.execute_reply.started": "2022-04-11T10:18:27.924064Z"
    },
    "papermill": {
     "duration": 0.030044,
     "end_time": "2022-04-11T10:23:14.033657",
     "exception": false,
     "start_time": "2022-04-11T10:23:14.003613",
     "status": "completed"
    },
    "tags": []
   },
   "outputs": [],
   "source": [
    "q1=np.quantile(sampleArr, 0.25)\n",
    "q3=np.quantile(sampleArr, 0.75)\n",
    "iqr = q3 - q1"
   ]
  },
  {
   "cell_type": "code",
   "execution_count": 8,
   "id": "d7705752",
   "metadata": {
    "execution": {
     "iopub.execute_input": "2022-04-11T10:23:14.076772Z",
     "iopub.status.busy": "2022-04-11T10:23:14.076174Z",
     "iopub.status.idle": "2022-04-11T10:23:14.081994Z",
     "shell.execute_reply": "2022-04-11T10:23:14.082562Z",
     "shell.execute_reply.started": "2022-04-11T10:18:43.169347Z"
    },
    "papermill": {
     "duration": 0.028795,
     "end_time": "2022-04-11T10:23:14.082718",
     "exception": false,
     "start_time": "2022-04-11T10:23:14.053923",
     "status": "completed"
    },
    "tags": []
   },
   "outputs": [
    {
     "data": {
      "text/plain": [
       "array([230, 150])"
      ]
     },
     "execution_count": 8,
     "metadata": {},
     "output_type": "execute_result"
    }
   ],
   "source": [
    "np.append(sampleArr[sampleArr < (q1 - 1.5*iqr)], sampleArr[sampleArr > (q3 + 1.5*iqr)])"
   ]
  },
  {
   "cell_type": "code",
   "execution_count": 9,
   "id": "f381eecb",
   "metadata": {
    "execution": {
     "iopub.execute_input": "2022-04-11T10:23:14.125934Z",
     "iopub.status.busy": "2022-04-11T10:23:14.125284Z",
     "iopub.status.idle": "2022-04-11T10:23:14.135394Z",
     "shell.execute_reply": "2022-04-11T10:23:14.134885Z",
     "shell.execute_reply.started": "2022-04-11T10:18:57.769133Z"
    },
    "papermill": {
     "duration": 0.03258,
     "end_time": "2022-04-11T10:23:14.135523",
     "exception": false,
     "start_time": "2022-04-11T10:23:14.102943",
     "status": "completed"
    },
    "tags": []
   },
   "outputs": [],
   "source": [
    "q1, q3 = sampleDF['sample'].quantile([0.25, 0.75])\n",
    "iqr = q3 - q1\n",
    "\n",
    "bx_rng = (q1 - 1.5 * iqr, q3 + 1.5 * iqr)"
   ]
  },
  {
   "cell_type": "code",
   "execution_count": 10,
   "id": "165b0c02",
   "metadata": {
    "execution": {
     "iopub.execute_input": "2022-04-11T10:23:14.181702Z",
     "iopub.status.busy": "2022-04-11T10:23:14.181058Z",
     "iopub.status.idle": "2022-04-11T10:23:14.193674Z",
     "shell.execute_reply": "2022-04-11T10:23:14.194199Z",
     "shell.execute_reply.started": "2022-04-11T10:19:08.009528Z"
    },
    "papermill": {
     "duration": 0.037809,
     "end_time": "2022-04-11T10:23:14.194372",
     "exception": false,
     "start_time": "2022-04-11T10:23:14.156563",
     "status": "completed"
    },
    "tags": []
   },
   "outputs": [
    {
     "data": {
      "text/html": [
       "<div>\n",
       "<style scoped>\n",
       "    .dataframe tbody tr th:only-of-type {\n",
       "        vertical-align: middle;\n",
       "    }\n",
       "\n",
       "    .dataframe tbody tr th {\n",
       "        vertical-align: top;\n",
       "    }\n",
       "\n",
       "    .dataframe thead th {\n",
       "        text-align: right;\n",
       "    }\n",
       "</style>\n",
       "<table border=\"1\" class=\"dataframe\">\n",
       "  <thead>\n",
       "    <tr style=\"text-align: right;\">\n",
       "      <th></th>\n",
       "      <th>sample</th>\n",
       "    </tr>\n",
       "  </thead>\n",
       "  <tbody>\n",
       "    <tr>\n",
       "      <th>11</th>\n",
       "      <td>230</td>\n",
       "    </tr>\n",
       "    <tr>\n",
       "      <th>20</th>\n",
       "      <td>150</td>\n",
       "    </tr>\n",
       "  </tbody>\n",
       "</table>\n",
       "</div>"
      ],
      "text/plain": [
       "    sample\n",
       "11     230\n",
       "20     150"
      ]
     },
     "execution_count": 10,
     "metadata": {},
     "output_type": "execute_result"
    }
   ],
   "source": [
    "sampleDF.loc[(sampleDF['sample'] < bx_rng[0]) | (sampleDF['sample'] > bx_rng[1])]"
   ]
  },
  {
   "cell_type": "markdown",
   "id": "afbbe628",
   "metadata": {
    "papermill": {
     "duration": 0.019787,
     "end_time": "2022-04-11T10:23:14.234338",
     "exception": false,
     "start_time": "2022-04-11T10:23:14.214551",
     "status": "completed"
    },
    "tags": []
   },
   "source": [
    "### Полученное количество выбросов = 2"
   ]
  },
  {
   "cell_type": "markdown",
   "id": "c9688781",
   "metadata": {
    "papermill": {
     "duration": 0.019832,
     "end_time": "2022-04-11T10:23:14.274407",
     "exception": false,
     "start_time": "2022-04-11T10:23:14.254575",
     "status": "completed"
    },
    "tags": []
   },
   "source": [
    "### Задача 3\n",
    "В университет на факультет A поступило 100 человек, на факультет B - 90 человек и на факультет C - 45 человек. Вероятность того, что студент с факультета A сдаст первую сессию, равна 0.6. Для студента с факультета B эта вероятность равна 0.7, а для студента с факультета C - 0.8. Случайным образом выбирается студент, сдавший первую сессию. Какое событие наиболее вероятно:\n",
    "студент учится на факультете A,\n",
    "студент учится на факультете B,\n",
    "студент учится на факультете C?\n"
   ]
  },
  {
   "cell_type": "code",
   "execution_count": 11,
   "id": "29bd2933",
   "metadata": {
    "execution": {
     "iopub.execute_input": "2022-04-11T10:23:14.321943Z",
     "iopub.status.busy": "2022-04-11T10:23:14.321247Z",
     "iopub.status.idle": "2022-04-11T10:23:14.322850Z",
     "shell.execute_reply": "2022-04-11T10:23:14.323354Z",
     "shell.execute_reply.started": "2022-04-11T10:21:19.038793Z"
    },
    "papermill": {
     "duration": 0.028939,
     "end_time": "2022-04-11T10:23:14.323524",
     "exception": false,
     "start_time": "2022-04-11T10:23:14.294585",
     "status": "completed"
    },
    "tags": []
   },
   "outputs": [],
   "source": [
    "nA = 100\n",
    "nB = 90\n",
    "nC = 45\n",
    "nSum = nA + nB + nC\n",
    "\n",
    "p_A = nA/nSum\n",
    "p_B = nB/nSum\n",
    "p_C = nC/nSum\n",
    "\n",
    "p_YA = 0.6\n",
    "p_YB = 0.7\n",
    "p_YC = 0.8"
   ]
  },
  {
   "cell_type": "code",
   "execution_count": 12,
   "id": "17aa4e3b",
   "metadata": {
    "execution": {
     "iopub.execute_input": "2022-04-11T10:23:14.368664Z",
     "iopub.status.busy": "2022-04-11T10:23:14.368008Z",
     "iopub.status.idle": "2022-04-11T10:23:14.371629Z",
     "shell.execute_reply": "2022-04-11T10:23:14.372196Z",
     "shell.execute_reply.started": "2022-04-11T10:21:30.512911Z"
    },
    "papermill": {
     "duration": 0.028046,
     "end_time": "2022-04-11T10:23:14.372384",
     "exception": false,
     "start_time": "2022-04-11T10:23:14.344338",
     "status": "completed"
    },
    "tags": []
   },
   "outputs": [],
   "source": [
    "p_Y = p_YA * p_A + p_YB * p_B + p_YC * p_C"
   ]
  },
  {
   "cell_type": "code",
   "execution_count": 13,
   "id": "35662ca3",
   "metadata": {
    "execution": {
     "iopub.execute_input": "2022-04-11T10:23:14.416902Z",
     "iopub.status.busy": "2022-04-11T10:23:14.416165Z",
     "iopub.status.idle": "2022-04-11T10:23:14.419581Z",
     "shell.execute_reply": "2022-04-11T10:23:14.420234Z",
     "shell.execute_reply.started": "2022-04-11T10:21:41.365405Z"
    },
    "papermill": {
     "duration": 0.027307,
     "end_time": "2022-04-11T10:23:14.420427",
     "exception": false,
     "start_time": "2022-04-11T10:23:14.393120",
     "status": "completed"
    },
    "tags": []
   },
   "outputs": [],
   "source": [
    "p_AY = (p_YA * p_A)/p_Y\n",
    "p_BY = (p_YB * p_B)/p_Y\n",
    "p_CY = (p_YC * p_C)/p_Y"
   ]
  },
  {
   "cell_type": "code",
   "execution_count": 14,
   "id": "b8c0ed8e",
   "metadata": {
    "execution": {
     "iopub.execute_input": "2022-04-11T10:23:14.474522Z",
     "iopub.status.busy": "2022-04-11T10:23:14.473890Z",
     "iopub.status.idle": "2022-04-11T10:23:14.479340Z",
     "shell.execute_reply": "2022-04-11T10:23:14.479948Z",
     "shell.execute_reply.started": "2022-04-11T10:21:51.481074Z"
    },
    "papermill": {
     "duration": 0.034087,
     "end_time": "2022-04-11T10:23:14.480121",
     "exception": false,
     "start_time": "2022-04-11T10:23:14.446034",
     "status": "completed"
    },
    "tags": []
   },
   "outputs": [
    {
     "name": "stdout",
     "output_type": "stream",
     "text": [
      "0.3773584905660377 0.39622641509433965 0.22641509433962265\n"
     ]
    }
   ],
   "source": [
    "print(p_AY, p_BY, p_CY)"
   ]
  },
  {
   "cell_type": "markdown",
   "id": "1ebf40cb",
   "metadata": {
    "papermill": {
     "duration": 0.021684,
     "end_time": "2022-04-11T10:23:14.523430",
     "exception": false,
     "start_time": "2022-04-11T10:23:14.501746",
     "status": "completed"
    },
    "tags": []
   },
   "source": [
    "### Наибольшее вероятность что первую сессию сдаст студентов факультета B"
   ]
  }
 ],
 "metadata": {
  "kernelspec": {
   "display_name": "Python 3",
   "language": "python",
   "name": "python3"
  },
  "language_info": {
   "codemirror_mode": {
    "name": "ipython",
    "version": 3
   },
   "file_extension": ".py",
   "mimetype": "text/x-python",
   "name": "python",
   "nbconvert_exporter": "python",
   "pygments_lexer": "ipython3",
   "version": "3.7.12"
  },
  "papermill": {
   "default_parameters": {},
   "duration": 11.071425,
   "end_time": "2022-04-11T10:23:15.154444",
   "environment_variables": {},
   "exception": null,
   "input_path": "__notebook__.ipynb",
   "output_path": "__notebook__.ipynb",
   "parameters": {},
   "start_time": "2022-04-11T10:23:04.083019",
   "version": "2.3.3"
  }
 },
 "nbformat": 4,
 "nbformat_minor": 5
}
