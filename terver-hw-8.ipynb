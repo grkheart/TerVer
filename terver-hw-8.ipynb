{
 "cells": [
  {
   "cell_type": "code",
   "execution_count": 1,
   "id": "de655bd1",
   "metadata": {
    "_cell_guid": "b1076dfc-b9ad-4769-8c92-a6c4dae69d19",
    "_uuid": "8f2839f25d086af736a60e9eeb907d3b93b6e0e5",
    "execution": {
     "iopub.execute_input": "2022-05-02T09:27:44.111658Z",
     "iopub.status.busy": "2022-05-02T09:27:44.111080Z",
     "iopub.status.idle": "2022-05-02T09:27:44.132695Z",
     "shell.execute_reply": "2022-05-02T09:27:44.131510Z"
    },
    "papermill": {
     "duration": 0.046683,
     "end_time": "2022-05-02T09:27:44.136639",
     "exception": false,
     "start_time": "2022-05-02T09:27:44.089956",
     "status": "completed"
    },
    "tags": []
   },
   "outputs": [
    {
     "name": "stdout",
     "output_type": "stream",
     "text": [
      "/kaggle/input/hockey-players/hockey_players.csv\n"
     ]
    }
   ],
   "source": [
    "# This Python 3 environment comes with many helpful analytics libraries installed\n",
    "# It is defined by the kaggle/python Docker image: https://github.com/kaggle/docker-python\n",
    "# For example, here's several helpful packages to load\n",
    "\n",
    "import numpy as np # linear algebra\n",
    "import pandas as pd # data processing, CSV file I/O (e.g. pd.read_csv)\n",
    "\n",
    "# Input data files are available in the read-only \"../input/\" directory\n",
    "# For example, running this (by clicking run or pressing Shift+Enter) will list all files under the input directory\n",
    "\n",
    "import os\n",
    "for dirname, _, filenames in os.walk('/kaggle/input'):\n",
    "    for filename in filenames:\n",
    "        print(os.path.join(dirname, filename))\n",
    "\n",
    "# You can write up to 20GB to the current directory (/kaggle/working/) that gets preserved as output when you create a version using \"Save & Run All\" \n",
    "# You can also write temporary files to /kaggle/temp/, but they won't be saved outside of the current session"
   ]
  },
  {
   "cell_type": "markdown",
   "id": "9b930e07",
   "metadata": {
    "papermill": {
     "duration": 0.018496,
     "end_time": "2022-05-02T09:27:44.173025",
     "exception": false,
     "start_time": "2022-05-02T09:27:44.154529",
     "status": "completed"
    },
    "tags": []
   },
   "source": [
    "### Задача №1\n",
    "\n",
    "Используя данные о хоккеистах (скачать можно здесь), проверьте, является ли среди хоккеистов из Финляндии, Норвегии и Дании значимым отличие: а) роста, б) BMI.\n",
    "\n"
   ]
  },
  {
   "cell_type": "code",
   "execution_count": 2,
   "id": "9387d0b3",
   "metadata": {
    "execution": {
     "iopub.execute_input": "2022-05-02T09:27:44.210100Z",
     "iopub.status.busy": "2022-05-02T09:27:44.209702Z",
     "iopub.status.idle": "2022-05-02T09:27:45.157934Z",
     "shell.execute_reply": "2022-05-02T09:27:45.157194Z"
    },
    "papermill": {
     "duration": 0.967287,
     "end_time": "2022-05-02T09:27:45.160576",
     "exception": false,
     "start_time": "2022-05-02T09:27:44.193289",
     "status": "completed"
    },
    "tags": []
   },
   "outputs": [],
   "source": [
    "import numpy as np\n",
    "import pandas as pd\n",
    "from scipy import stats"
   ]
  },
  {
   "cell_type": "code",
   "execution_count": 3,
   "id": "367697be",
   "metadata": {
    "execution": {
     "iopub.execute_input": "2022-05-02T09:27:45.193687Z",
     "iopub.status.busy": "2022-05-02T09:27:45.192933Z",
     "iopub.status.idle": "2022-05-02T09:27:45.237924Z",
     "shell.execute_reply": "2022-05-02T09:27:45.237236Z"
    },
    "papermill": {
     "duration": 0.064824,
     "end_time": "2022-05-02T09:27:45.240296",
     "exception": false,
     "start_time": "2022-05-02T09:27:45.175472",
     "status": "completed"
    },
    "tags": []
   },
   "outputs": [],
   "source": [
    "df = pd.read_csv('../input/hockey-players/hockey_players.csv', encoding='ISO-8859-1')"
   ]
  },
  {
   "cell_type": "code",
   "execution_count": 4,
   "id": "f67cc027",
   "metadata": {
    "execution": {
     "iopub.execute_input": "2022-05-02T09:27:45.271935Z",
     "iopub.status.busy": "2022-05-02T09:27:45.271083Z",
     "iopub.status.idle": "2022-05-02T09:27:45.297181Z",
     "shell.execute_reply": "2022-05-02T09:27:45.296569Z"
    },
    "papermill": {
     "duration": 0.044416,
     "end_time": "2022-05-02T09:27:45.299759",
     "exception": false,
     "start_time": "2022-05-02T09:27:45.255343",
     "status": "completed"
    },
    "tags": []
   },
   "outputs": [
    {
     "data": {
      "text/html": [
       "<div>\n",
       "<style scoped>\n",
       "    .dataframe tbody tr th:only-of-type {\n",
       "        vertical-align: middle;\n",
       "    }\n",
       "\n",
       "    .dataframe tbody tr th {\n",
       "        vertical-align: top;\n",
       "    }\n",
       "\n",
       "    .dataframe thead th {\n",
       "        text-align: right;\n",
       "    }\n",
       "</style>\n",
       "<table border=\"1\" class=\"dataframe\">\n",
       "  <thead>\n",
       "    <tr style=\"text-align: right;\">\n",
       "      <th></th>\n",
       "      <th>year</th>\n",
       "      <th>country</th>\n",
       "      <th>no</th>\n",
       "      <th>name</th>\n",
       "      <th>position</th>\n",
       "      <th>side</th>\n",
       "      <th>height</th>\n",
       "      <th>weight</th>\n",
       "      <th>birth</th>\n",
       "      <th>club</th>\n",
       "      <th>age</th>\n",
       "      <th>cohort</th>\n",
       "      <th>bmi</th>\n",
       "    </tr>\n",
       "  </thead>\n",
       "  <tbody>\n",
       "    <tr>\n",
       "      <th>6287</th>\n",
       "      <td>2016</td>\n",
       "      <td>USA</td>\n",
       "      <td>71</td>\n",
       "      <td>foligno nick</td>\n",
       "      <td>F</td>\n",
       "      <td>L</td>\n",
       "      <td>183</td>\n",
       "      <td>95.0</td>\n",
       "      <td>1987-10-31</td>\n",
       "      <td>columbus blue jackets</td>\n",
       "      <td>28.501027</td>\n",
       "      <td>1987</td>\n",
       "      <td>28.367524</td>\n",
       "    </tr>\n",
       "    <tr>\n",
       "      <th>6288</th>\n",
       "      <td>2016</td>\n",
       "      <td>USA</td>\n",
       "      <td>72</td>\n",
       "      <td>vatrano frank</td>\n",
       "      <td>F</td>\n",
       "      <td>L</td>\n",
       "      <td>178</td>\n",
       "      <td>98.0</td>\n",
       "      <td>1994-03-14</td>\n",
       "      <td>boston bruins</td>\n",
       "      <td>22.132786</td>\n",
       "      <td>1994</td>\n",
       "      <td>30.930438</td>\n",
       "    </tr>\n",
       "    <tr>\n",
       "      <th>6289</th>\n",
       "      <td>2016</td>\n",
       "      <td>USA</td>\n",
       "      <td>1</td>\n",
       "      <td>kinkaid keith</td>\n",
       "      <td>G</td>\n",
       "      <td>L</td>\n",
       "      <td>191</td>\n",
       "      <td>88.0</td>\n",
       "      <td>1989-07-04</td>\n",
       "      <td>new jersey devils</td>\n",
       "      <td>26.825462</td>\n",
       "      <td>1989</td>\n",
       "      <td>24.122146</td>\n",
       "    </tr>\n",
       "    <tr>\n",
       "      <th>6290</th>\n",
       "      <td>2016</td>\n",
       "      <td>USA</td>\n",
       "      <td>30</td>\n",
       "      <td>condon mike</td>\n",
       "      <td>G</td>\n",
       "      <td>L</td>\n",
       "      <td>188</td>\n",
       "      <td>89.0</td>\n",
       "      <td>1990-04-27</td>\n",
       "      <td>montreal canadiens</td>\n",
       "      <td>26.012320</td>\n",
       "      <td>1990</td>\n",
       "      <td>25.181077</td>\n",
       "    </tr>\n",
       "    <tr>\n",
       "      <th>6291</th>\n",
       "      <td>2016</td>\n",
       "      <td>USA</td>\n",
       "      <td>31</td>\n",
       "      <td>demko thatcher</td>\n",
       "      <td>G</td>\n",
       "      <td>L</td>\n",
       "      <td>193</td>\n",
       "      <td>95.0</td>\n",
       "      <td>1995-12-08</td>\n",
       "      <td>boston college</td>\n",
       "      <td>20.396988</td>\n",
       "      <td>1995</td>\n",
       "      <td>25.504040</td>\n",
       "    </tr>\n",
       "  </tbody>\n",
       "</table>\n",
       "</div>"
      ],
      "text/plain": [
       "      year country  no            name position side  height  weight  \\\n",
       "6287  2016     USA  71    foligno nick        F    L     183    95.0   \n",
       "6288  2016     USA  72   vatrano frank        F    L     178    98.0   \n",
       "6289  2016     USA   1   kinkaid keith        G    L     191    88.0   \n",
       "6290  2016     USA  30     condon mike        G    L     188    89.0   \n",
       "6291  2016     USA  31  demko thatcher        G    L     193    95.0   \n",
       "\n",
       "           birth                   club        age  cohort        bmi  \n",
       "6287  1987-10-31  columbus blue jackets  28.501027    1987  28.367524  \n",
       "6288  1994-03-14          boston bruins  22.132786    1994  30.930438  \n",
       "6289  1989-07-04      new jersey devils  26.825462    1989  24.122146  \n",
       "6290  1990-04-27     montreal canadiens  26.012320    1990  25.181077  \n",
       "6291  1995-12-08         boston college  20.396988    1995  25.504040  "
      ]
     },
     "execution_count": 4,
     "metadata": {},
     "output_type": "execute_result"
    }
   ],
   "source": [
    "df.tail()"
   ]
  },
  {
   "cell_type": "code",
   "execution_count": 5,
   "id": "1fd5c746",
   "metadata": {
    "execution": {
     "iopub.execute_input": "2022-05-02T09:27:45.333284Z",
     "iopub.status.busy": "2022-05-02T09:27:45.332751Z",
     "iopub.status.idle": "2022-05-02T09:27:45.340585Z",
     "shell.execute_reply": "2022-05-02T09:27:45.339713Z"
    },
    "papermill": {
     "duration": 0.026991,
     "end_time": "2022-05-02T09:27:45.342553",
     "exception": false,
     "start_time": "2022-05-02T09:27:45.315562",
     "status": "completed"
    },
    "tags": []
   },
   "outputs": [],
   "source": [
    "def anova(*ys: np.ndarray) -> float:\n",
    "    \"\"\"Функция возвращает значение F-статистики\n",
    "    для дисперсионного анализа.\n",
    "    \"\"\"\n",
    "    \n",
    "    y = np.concatenate(ys)\n",
    "\n",
    "    ss_b = sum((yi.mean() - y.mean()) ** 2 * yi.size for yi in ys)\n",
    "    ss_w = sum(((yi - yi.mean()) ** 2).sum() for yi in ys)\n",
    "    \n",
    "    sigma_b = ss_b / (len(ys) - 1)\n",
    "    sigma_w = ss_w / (y.size - len(ys))\n",
    "    \n",
    "    return sigma_b / sigma_w"
   ]
  },
  {
   "cell_type": "code",
   "execution_count": 6,
   "id": "d8273708",
   "metadata": {
    "execution": {
     "iopub.execute_input": "2022-05-02T09:27:45.375842Z",
     "iopub.status.busy": "2022-05-02T09:27:45.375085Z",
     "iopub.status.idle": "2022-05-02T09:27:45.386606Z",
     "shell.execute_reply": "2022-05-02T09:27:45.386030Z"
    },
    "papermill": {
     "duration": 0.0302,
     "end_time": "2022-05-02T09:27:45.388399",
     "exception": false,
     "start_time": "2022-05-02T09:27:45.358199",
     "status": "completed"
    },
    "tags": []
   },
   "outputs": [
    {
     "data": {
      "text/plain": [
       "array(['RUS', 'AUT', 'BLR', 'CAN', 'CZE', 'FIN', 'GER', 'ITA', 'JPN',\n",
       "       'LAT', 'NOR', 'SUI', 'SVK', 'SWE', 'UKR', 'USA', 'POL', 'SLO',\n",
       "       'DEN', 'FRA', 'KAZ', 'HUN'], dtype=object)"
      ]
     },
     "execution_count": 6,
     "metadata": {},
     "output_type": "execute_result"
    }
   ],
   "source": [
    "df['country'].unique()"
   ]
  },
  {
   "cell_type": "code",
   "execution_count": 7,
   "id": "2f677432",
   "metadata": {
    "execution": {
     "iopub.execute_input": "2022-05-02T09:27:45.421353Z",
     "iopub.status.busy": "2022-05-02T09:27:45.420742Z",
     "iopub.status.idle": "2022-05-02T09:27:45.425769Z",
     "shell.execute_reply": "2022-05-02T09:27:45.425226Z"
    },
    "papermill": {
     "duration": 0.023544,
     "end_time": "2022-05-02T09:27:45.427434",
     "exception": false,
     "start_time": "2022-05-02T09:27:45.403890",
     "status": "completed"
    },
    "tags": []
   },
   "outputs": [
    {
     "data": {
      "text/plain": [
       "['FIN', 'NOR', 'DEN']"
      ]
     },
     "execution_count": 7,
     "metadata": {},
     "output_type": "execute_result"
    }
   ],
   "source": [
    "countries = ['FIN', 'NOR', 'DEN']\n",
    "countries"
   ]
  },
  {
   "cell_type": "code",
   "execution_count": 8,
   "id": "5b5166d6",
   "metadata": {
    "execution": {
     "iopub.execute_input": "2022-05-02T09:27:45.461098Z",
     "iopub.status.busy": "2022-05-02T09:27:45.460559Z",
     "iopub.status.idle": "2022-05-02T09:27:45.473610Z",
     "shell.execute_reply": "2022-05-02T09:27:45.472814Z"
    },
    "papermill": {
     "duration": 0.032061,
     "end_time": "2022-05-02T09:27:45.475466",
     "exception": false,
     "start_time": "2022-05-02T09:27:45.443405",
     "status": "completed"
    },
    "tags": []
   },
   "outputs": [
    {
     "data": {
      "text/plain": [
       "4.273207343917213"
      ]
     },
     "execution_count": 8,
     "metadata": {},
     "output_type": "execute_result"
    }
   ],
   "source": [
    "ys = [df.loc[df['country'] == country, 'height'] for country in countries]\n",
    "\n",
    "F = anova(*ys)\n",
    "F"
   ]
  },
  {
   "cell_type": "code",
   "execution_count": 9,
   "id": "38d8ffc7",
   "metadata": {
    "execution": {
     "iopub.execute_input": "2022-05-02T09:27:45.510246Z",
     "iopub.status.busy": "2022-05-02T09:27:45.509658Z",
     "iopub.status.idle": "2022-05-02T09:27:45.515932Z",
     "shell.execute_reply": "2022-05-02T09:27:45.515146Z"
    },
    "papermill": {
     "duration": 0.026147,
     "end_time": "2022-05-02T09:27:45.517862",
     "exception": false,
     "start_time": "2022-05-02T09:27:45.491715",
     "status": "completed"
    },
    "tags": []
   },
   "outputs": [
    {
     "data": {
      "text/plain": [
       "(2, 1023)"
      ]
     },
     "execution_count": 9,
     "metadata": {},
     "output_type": "execute_result"
    }
   ],
   "source": [
    "k = len(countries)\n",
    "n = sum(y.size for y in ys)\n",
    "\n",
    "k1 = k - 1\n",
    "k2 = n - k\n",
    "\n",
    "k1, k2"
   ]
  },
  {
   "cell_type": "code",
   "execution_count": 10,
   "id": "327ab16a",
   "metadata": {
    "execution": {
     "iopub.execute_input": "2022-05-02T09:27:45.552817Z",
     "iopub.status.busy": "2022-05-02T09:27:45.552290Z",
     "iopub.status.idle": "2022-05-02T09:27:45.558685Z",
     "shell.execute_reply": "2022-05-02T09:27:45.557837Z"
    },
    "papermill": {
     "duration": 0.026461,
     "end_time": "2022-05-02T09:27:45.560895",
     "exception": false,
     "start_time": "2022-05-02T09:27:45.534434",
     "status": "completed"
    },
    "tags": []
   },
   "outputs": [
    {
     "data": {
      "text/plain": [
       "3.0045220661840073"
      ]
     },
     "execution_count": 10,
     "metadata": {},
     "output_type": "execute_result"
    }
   ],
   "source": [
    "alpha = 0.05\n",
    "\n",
    "t = stats.f.ppf(1 - alpha, k1, k2)\n",
    "t"
   ]
  },
  {
   "cell_type": "markdown",
   "id": "d4843365",
   "metadata": {
    "papermill": {
     "duration": 0.016574,
     "end_time": "2022-05-02T09:27:45.594638",
     "exception": false,
     "start_time": "2022-05-02T09:27:45.578064",
     "status": "completed"
    },
    "tags": []
   },
   "source": [
    "Критическая область \n",
    "(\n",
    "3.0045\n",
    ",\n",
    "+\n",
    "∞\n",
    ")\n",
    "\n",
    "**Ответ:**\n",
    "Поскольку статистика попала в критическую область, заключем, что между ростом хоккеистов выбранных стран есть отличия"
   ]
  },
  {
   "cell_type": "code",
   "execution_count": 11,
   "id": "41eddfbd",
   "metadata": {
    "execution": {
     "iopub.execute_input": "2022-05-02T09:27:45.630237Z",
     "iopub.status.busy": "2022-05-02T09:27:45.629654Z",
     "iopub.status.idle": "2022-05-02T09:27:45.643347Z",
     "shell.execute_reply": "2022-05-02T09:27:45.642632Z"
    },
    "papermill": {
     "duration": 0.033727,
     "end_time": "2022-05-02T09:27:45.645239",
     "exception": false,
     "start_time": "2022-05-02T09:27:45.611512",
     "status": "completed"
    },
    "tags": []
   },
   "outputs": [
    {
     "data": {
      "text/plain": [
       "36.058167277438194"
      ]
     },
     "execution_count": 11,
     "metadata": {},
     "output_type": "execute_result"
    }
   ],
   "source": [
    "bmi = [df.loc[df['country'] == country, 'bmi'] for country in countries]\n",
    "\n",
    "F = anova(*bmi)\n",
    "F"
   ]
  },
  {
   "cell_type": "markdown",
   "id": "e7ec98d8",
   "metadata": {
    "papermill": {
     "duration": 0.0173,
     "end_time": "2022-05-02T09:27:45.679806",
     "exception": false,
     "start_time": "2022-05-02T09:27:45.662506",
     "status": "completed"
    },
    "tags": []
   },
   "source": [
    "**Ответ:**\n",
    "Поскольку статистика попала в критическую область, заключем, что между bmi хоккеистов выбранных стран есть отличия"
   ]
  }
 ],
 "metadata": {
  "kernelspec": {
   "display_name": "Python 3",
   "language": "python",
   "name": "python3"
  },
  "language_info": {
   "codemirror_mode": {
    "name": "ipython",
    "version": 3
   },
   "file_extension": ".py",
   "mimetype": "text/x-python",
   "name": "python",
   "nbconvert_exporter": "python",
   "pygments_lexer": "ipython3",
   "version": "3.7.12"
  },
  "papermill": {
   "default_parameters": {},
   "duration": 12.476636,
   "end_time": "2022-05-02T09:27:46.517525",
   "environment_variables": {},
   "exception": null,
   "input_path": "__notebook__.ipynb",
   "output_path": "__notebook__.ipynb",
   "parameters": {},
   "start_time": "2022-05-02T09:27:34.040889",
   "version": "2.3.4"
  }
 },
 "nbformat": 4,
 "nbformat_minor": 5
}
