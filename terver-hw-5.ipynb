{
 "cells": [
  {
   "cell_type": "code",
   "execution_count": 1,
   "id": "b937bfe6",
   "metadata": {
    "_cell_guid": "b1076dfc-b9ad-4769-8c92-a6c4dae69d19",
    "_uuid": "8f2839f25d086af736a60e9eeb907d3b93b6e0e5",
    "execution": {
     "iopub.execute_input": "2022-04-18T08:59:06.099534Z",
     "iopub.status.busy": "2022-04-18T08:59:06.098705Z",
     "iopub.status.idle": "2022-04-18T08:59:06.112178Z",
     "shell.execute_reply": "2022-04-18T08:59:06.111616Z"
    },
    "papermill": {
     "duration": 0.036449,
     "end_time": "2022-04-18T08:59:06.114171",
     "exception": false,
     "start_time": "2022-04-18T08:59:06.077722",
     "status": "completed"
    },
    "tags": []
   },
   "outputs": [],
   "source": [
    "# This Python 3 environment comes with many helpful analytics libraries installed\n",
    "# It is defined by the kaggle/python Docker image: https://github.com/kaggle/docker-python\n",
    "# For example, here's several helpful packages to load\n",
    "\n",
    "import numpy as np # linear algebra\n",
    "import pandas as pd # data processing, CSV file I/O (e.g. pd.read_csv)\n",
    "\n",
    "# Input data files are available in the read-only \"../input/\" directory\n",
    "# For example, running this (by clicking run or pressing Shift+Enter) will list all files under the input directory\n",
    "\n",
    "import os\n",
    "for dirname, _, filenames in os.walk('/kaggle/input'):\n",
    "    for filename in filenames:\n",
    "        print(os.path.join(dirname, filename))\n",
    "\n",
    "# You can write up to 20GB to the current directory (/kaggle/working/) that gets preserved as output when you create a version using \"Save & Run All\" \n",
    "# You can also write temporary files to /kaggle/temp/, but they won't be saved outside of the current session"
   ]
  },
  {
   "cell_type": "markdown",
   "id": "6dc27882",
   "metadata": {
    "papermill": {
     "duration": 0.012241,
     "end_time": "2022-04-18T08:59:06.139432",
     "exception": false,
     "start_time": "2022-04-18T08:59:06.127191",
     "status": "completed"
    },
    "tags": []
   },
   "source": [
    "### Задача №1\n",
    "\n",
    "Известно, что генеральная совокупность распределена нормально с известным средним квадратическим отклонением 16. Найти ширину доверительного интервала для оценки математического ожидания `mu` с надёжностью 0.95, если выборочное среднее равно 80, а объём выборки равен 256."
   ]
  },
  {
   "cell_type": "code",
   "execution_count": 2,
   "id": "669ab2de",
   "metadata": {
    "execution": {
     "iopub.execute_input": "2022-04-18T08:59:06.166844Z",
     "iopub.status.busy": "2022-04-18T08:59:06.166316Z",
     "iopub.status.idle": "2022-04-18T08:59:07.127678Z",
     "shell.execute_reply": "2022-04-18T08:59:07.127009Z"
    },
    "papermill": {
     "duration": 0.977982,
     "end_time": "2022-04-18T08:59:07.129949",
     "exception": false,
     "start_time": "2022-04-18T08:59:06.151967",
     "status": "completed"
    },
    "tags": []
   },
   "outputs": [],
   "source": [
    "import pandas as pd\n",
    "import numpy as np\n",
    "from math import sqrt\n",
    "from scipy import stats\n",
    "from scipy.stats import norm, t"
   ]
  },
  {
   "cell_type": "markdown",
   "id": "3a67a80f",
   "metadata": {
    "papermill": {
     "duration": 0.012619,
     "end_time": "2022-04-18T08:59:07.155208",
     "exception": false,
     "start_time": "2022-04-18T08:59:07.142589",
     "status": "completed"
    },
    "tags": []
   },
   "source": [
    "\n"
   ]
  },
  {
   "cell_type": "code",
   "execution_count": 3,
   "id": "b7de4288",
   "metadata": {
    "execution": {
     "iopub.execute_input": "2022-04-18T08:59:07.182432Z",
     "iopub.status.busy": "2022-04-18T08:59:07.181912Z",
     "iopub.status.idle": "2022-04-18T08:59:07.190456Z",
     "shell.execute_reply": "2022-04-18T08:59:07.189788Z"
    },
    "papermill": {
     "duration": 0.024523,
     "end_time": "2022-04-18T08:59:07.192509",
     "exception": false,
     "start_time": "2022-04-18T08:59:07.167986",
     "status": "completed"
    },
    "tags": []
   },
   "outputs": [
    {
     "name": "stdout",
     "output_type": "stream",
     "text": [
      "Доверительный интервал: [78.04, 81.96]\n",
      "Ширина доверительного интервала: 3.9199999999999875\n"
     ]
    }
   ],
   "source": [
    "sigma, lambda_, M, n = 16, 0.95, 80, 256\n",
    "t_lambda_ = norm.ppf(lambda_/2 + 0.5)\n",
    "delta = t_lambda_ * sigma / sqrt(n)\n",
    "print(f'Доверительный интервал: [{round(M-delta, 4)}, {round(M+delta, 4)}]')\n",
    "print(f'Ширина доверительного интервала:',(round(M+delta, 4) - round(M-delta, 4)))"
   ]
  },
  {
   "cell_type": "markdown",
   "id": "da7da698",
   "metadata": {
    "papermill": {
     "duration": 0.013077,
     "end_time": "2022-04-18T08:59:07.218919",
     "exception": false,
     "start_time": "2022-04-18T08:59:07.205842",
     "status": "completed"
    },
    "tags": []
   },
   "source": [
    "### Задача №2\n",
    "\n",
    "Продавец утверждает, что средний вес пачки печенья составляет 200 г. Из партии извлечена выборка из 10 пачек. Вес каждой пачки составляет:\n",
    "```\n",
    "202, 203, 199, 197, 195, 201, 200, 204, 194, 190\n",
    "```\n",
    "Известно, что их веса распределены нормально. Верно ли утверждение продавца, если учитывать, что уровень значимости равен 1%? Найдите P-значение для данного теста и укажите его в качестве ответа."
   ]
  },
  {
   "cell_type": "code",
   "execution_count": 4,
   "id": "a306545c",
   "metadata": {
    "execution": {
     "iopub.execute_input": "2022-04-18T08:59:07.247110Z",
     "iopub.status.busy": "2022-04-18T08:59:07.246798Z",
     "iopub.status.idle": "2022-04-18T08:59:07.257771Z",
     "shell.execute_reply": "2022-04-18T08:59:07.256891Z"
    },
    "papermill": {
     "duration": 0.027918,
     "end_time": "2022-04-18T08:59:07.259924",
     "exception": false,
     "start_time": "2022-04-18T08:59:07.232006",
     "status": "completed"
    },
    "tags": []
   },
   "outputs": [
    {
     "name": "stdout",
     "output_type": "stream",
     "text": [
      "Гипотеза H_0 верна - средний вес пачки составляет 200г\n",
      "P-значение:  0.31456660352472854\n"
     ]
    }
   ],
   "source": [
    "data = np.array([202, 203, 199, 197, 195, 201, 200, 204, 194, 190])\n",
    "mu0=200; n=10; t = 3.25\n",
    "mu = data.mean()\n",
    "s = np.sqrt(data.var(ddof=1))\n",
    "v = ((mu - mu0)*np.sqrt(n))/s\n",
    "print('Гипотеза H_0 верна - средний вес пачки составляет 200г' if -t < v < t else 'Гипотеза H_0 не верна.')\n",
    "p = 2 * min(stats.t.cdf(v, df=data.shape[0] - 1), 1 - stats.t.cdf(v, df=data.shape[0] - 1))\n",
    "print(f'P-значение: ',p)"
   ]
  },
  {
   "cell_type": "markdown",
   "id": "bc900b3b",
   "metadata": {
    "papermill": {
     "duration": 0.013357,
     "end_time": "2022-04-18T08:59:07.286630",
     "exception": false,
     "start_time": "2022-04-18T08:59:07.273273",
     "status": "completed"
    },
    "tags": []
   },
   "source": [
    "### Задача №3\n",
    "\n",
    "Дана выборка диаметров подшипников из примера 1 с занятия 5:\n",
    "```\n",
    "samples = [0.6603, 0.9466, 0.5968, 1.3792, 1.5481, 0.7515, 1.0681, 1.1134,\n",
    "           1.2088, 1.701 , 1.0282, 1.3579, 1.0191, 1.1784, 1.1168, 1.1372,\n",
    "           0.7273, 1.3958, 0.8665, 1.5112, 1.161 , 1.0232, 1.0865, 1.02  ]\n",
    "```\n",
    "Предполагая, что диаметры подшипников распределены нормально, проверьте гипотезу о том, что дисперсия случайной величины равна `0.0625` при уровне значимости `alpha = 0.05`. Что для этого нужно знать:\n",
    "1. Альтернативная гипотеза двухсторонняя.\n",
    "2. Статистика для теста: `H = (n - 1) * sample_variance / variance`, где `n` - число элементов в выборке, `sample_variance` - несмещённая оценка дисперсии, `variance` - утверждаемая нулевой гипотезой дисперсия.\n",
    "3. Эта статистика в предположении верности нулевой гипотезы имеет распределение хи-квадрат с параметром `df = n - 1`. Её квантили можно найти с помощью функции `scipy.stats.chi2.ppf`.\n",
    "\n",
    "В качестве ответа запишите 1, если нулевая гипотеза верна, и 0 иначе."
   ]
  },
  {
   "cell_type": "code",
   "execution_count": 5,
   "id": "d2d60231",
   "metadata": {
    "execution": {
     "iopub.execute_input": "2022-04-18T08:59:07.315433Z",
     "iopub.status.busy": "2022-04-18T08:59:07.314902Z",
     "iopub.status.idle": "2022-04-18T08:59:07.321074Z",
     "shell.execute_reply": "2022-04-18T08:59:07.320129Z"
    },
    "papermill": {
     "duration": 0.023325,
     "end_time": "2022-04-18T08:59:07.323463",
     "exception": false,
     "start_time": "2022-04-18T08:59:07.300138",
     "status": "completed"
    },
    "tags": []
   },
   "outputs": [],
   "source": [
    "samples = np.array([0.6603, 0.9466, 0.5968, 1.3792, 1.5481, 0.7515, 1.0681, 1.1134,\n",
    "           1.2088, 1.701 , 1.0282, 1.3579, 1.0191, 1.1784, 1.1168, 1.1372,\n",
    "           0.7273, 1.3958, 0.8665, 1.5112, 1.161 , 1.0232, 1.0865, 1.02 ])\n",
    "var = 0.0625\n",
    "n = samples.shape[0]\n",
    "sample_variance = samples.var(ddof=1)"
   ]
  },
  {
   "cell_type": "markdown",
   "id": "b7659f40",
   "metadata": {
    "papermill": {
     "duration": 0.013042,
     "end_time": "2022-04-18T08:59:07.350046",
     "exception": false,
     "start_time": "2022-04-18T08:59:07.337004",
     "status": "completed"
    },
    "tags": []
   },
   "source": [
    "Статистика для данной выборки H:"
   ]
  },
  {
   "cell_type": "code",
   "execution_count": 6,
   "id": "e176b185",
   "metadata": {
    "execution": {
     "iopub.execute_input": "2022-04-18T08:59:07.378179Z",
     "iopub.status.busy": "2022-04-18T08:59:07.377841Z",
     "iopub.status.idle": "2022-04-18T08:59:07.385623Z",
     "shell.execute_reply": "2022-04-18T08:59:07.384968Z"
    },
    "papermill": {
     "duration": 0.024574,
     "end_time": "2022-04-18T08:59:07.387843",
     "exception": false,
     "start_time": "2022-04-18T08:59:07.363269",
     "status": "completed"
    },
    "tags": []
   },
   "outputs": [
    {
     "data": {
      "text/plain": [
       "28.720541753333343"
      ]
     },
     "execution_count": 6,
     "metadata": {},
     "output_type": "execute_result"
    }
   ],
   "source": [
    "H = (n - 1) * sample_variance / var\n",
    "H"
   ]
  },
  {
   "cell_type": "markdown",
   "id": "fd51a302",
   "metadata": {
    "papermill": {
     "duration": 0.013859,
     "end_time": "2022-04-18T08:59:07.415445",
     "exception": false,
     "start_time": "2022-04-18T08:59:07.401586",
     "status": "completed"
    },
    "tags": []
   },
   "source": [
    "Границы критической области \n",
    "Ω\n",
    "α\n",
    " согласно уровню значимости \n",
    "α\n",
    "=\n",
    "0.05\n",
    ":"
   ]
  },
  {
   "cell_type": "code",
   "execution_count": 7,
   "id": "2fc1c287",
   "metadata": {
    "execution": {
     "iopub.execute_input": "2022-04-18T08:59:07.445030Z",
     "iopub.status.busy": "2022-04-18T08:59:07.444715Z",
     "iopub.status.idle": "2022-04-18T08:59:07.453882Z",
     "shell.execute_reply": "2022-04-18T08:59:07.452943Z"
    },
    "papermill": {
     "duration": 0.026511,
     "end_time": "2022-04-18T08:59:07.455775",
     "exception": false,
     "start_time": "2022-04-18T08:59:07.429264",
     "status": "completed"
    },
    "tags": []
   },
   "outputs": [
    {
     "data": {
      "text/plain": [
       "(11.688551922452438, 38.0756272503558)"
      ]
     },
     "execution_count": 7,
     "metadata": {},
     "output_type": "execute_result"
    }
   ],
   "source": [
    "alpha = 0.05\n",
    "\n",
    "t1 = stats.chi2.ppf(alpha / 2, df=n-1)\n",
    "t2 = stats.chi2.ppf(1 - alpha / 2, df=n-1)\n",
    "\n",
    "t1, t2"
   ]
  },
  {
   "cell_type": "markdown",
   "id": "3e99de18",
   "metadata": {
    "papermill": {
     "duration": 0.013918,
     "end_time": "2022-04-18T08:59:07.483837",
     "exception": false,
     "start_time": "2022-04-18T08:59:07.469919",
     "status": "completed"
    },
    "tags": []
   },
   "source": [
    "### t1 <= H <= t2 , то гипотеза является верной\n",
    "### Ответ: 1"
   ]
  }
 ],
 "metadata": {
  "kernelspec": {
   "display_name": "Python 3",
   "language": "python",
   "name": "python3"
  },
  "language_info": {
   "codemirror_mode": {
    "name": "ipython",
    "version": 3
   },
   "file_extension": ".py",
   "mimetype": "text/x-python",
   "name": "python",
   "nbconvert_exporter": "python",
   "pygments_lexer": "ipython3",
   "version": "3.7.12"
  },
  "papermill": {
   "default_parameters": {},
   "duration": 12.2432,
   "end_time": "2022-04-18T08:59:08.219183",
   "environment_variables": {},
   "exception": null,
   "input_path": "__notebook__.ipynb",
   "output_path": "__notebook__.ipynb",
   "parameters": {},
   "start_time": "2022-04-18T08:58:55.975983",
   "version": "2.3.4"
  }
 },
 "nbformat": 4,
 "nbformat_minor": 5
}
