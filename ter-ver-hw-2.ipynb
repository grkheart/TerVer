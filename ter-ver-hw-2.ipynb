{
 "cells": [
  {
   "cell_type": "code",
   "execution_count": 1,
   "id": "225ebeec",
   "metadata": {
    "_cell_guid": "b1076dfc-b9ad-4769-8c92-a6c4dae69d19",
    "_uuid": "8f2839f25d086af736a60e9eeb907d3b93b6e0e5",
    "execution": {
     "iopub.execute_input": "2022-04-04T12:44:46.292491Z",
     "iopub.status.busy": "2022-04-04T12:44:46.291504Z",
     "iopub.status.idle": "2022-04-04T12:44:46.299154Z",
     "shell.execute_reply": "2022-04-04T12:44:46.300289Z"
    },
    "papermill": {
     "duration": 0.029201,
     "end_time": "2022-04-04T12:44:46.300737",
     "exception": false,
     "start_time": "2022-04-04T12:44:46.271536",
     "status": "completed"
    },
    "tags": []
   },
   "outputs": [],
   "source": [
    "# This Python 3 environment comes with many helpful analytics libraries installed\n",
    "# It is defined by the kaggle/python Docker image: https://github.com/kaggle/docker-python\n",
    "# For example, here's several helpful packages to load\n",
    "\n",
    "import numpy as np # linear algebra\n",
    "import pandas as pd # data processing, CSV file I/O (e.g. pd.read_csv)\n",
    "\n",
    "# Input data files are available in the read-only \"../input/\" directory\n",
    "# For example, running this (by clicking run or pressing Shift+Enter) will list all files under the input directory\n",
    "\n",
    "import os\n",
    "for dirname, _, filenames in os.walk('/kaggle/input'):\n",
    "    for filename in filenames:\n",
    "        print(os.path.join(dirname, filename))\n",
    "\n",
    "# You can write up to 20GB to the current directory (/kaggle/working/) that gets preserved as output when you create a version using \"Save & Run All\" \n",
    "# You can also write temporary files to /kaggle/temp/, but they won't be saved outside of the current session"
   ]
  },
  {
   "cell_type": "markdown",
   "id": "1a68f077",
   "metadata": {
    "papermill": {
     "duration": 0.00985,
     "end_time": "2022-04-04T12:44:46.321902",
     "exception": false,
     "start_time": "2022-04-04T12:44:46.312052",
     "status": "completed"
    },
    "tags": []
   },
   "source": [
    "### Задачи 1 и 2\n",
    "Контрольная работа состоит из пяти вопросов. На каждый вопрос приведено четыре варианта ответа, один из которых правильный. Случайная величина X задаёт число правильных ответов при простом угадывании. Найдите математическое ожидание данной случайной величины. Найдите дисперсию случайной величины X.\n",
    "\n",
    "Подсказка: постройте закон распределения случайной величины X."
   ]
  },
  {
   "cell_type": "code",
   "execution_count": 2,
   "id": "71cda5fe",
   "metadata": {
    "execution": {
     "iopub.execute_input": "2022-04-04T12:44:46.346904Z",
     "iopub.status.busy": "2022-04-04T12:44:46.345806Z",
     "iopub.status.idle": "2022-04-04T12:44:46.354953Z",
     "shell.execute_reply": "2022-04-04T12:44:46.355579Z",
     "shell.execute_reply.started": "2022-04-04T12:29:44.626858Z"
    },
    "papermill": {
     "duration": 0.023812,
     "end_time": "2022-04-04T12:44:46.355759",
     "exception": false,
     "start_time": "2022-04-04T12:44:46.331947",
     "status": "completed"
    },
    "tags": []
   },
   "outputs": [
    {
     "name": "stdout",
     "output_type": "stream",
     "text": [
      "0.2373046875\n",
      "0.3955078125\n",
      "0.263671875\n",
      "0.087890625\n",
      "0.0146484375\n",
      "0.0009765625\n"
     ]
    }
   ],
   "source": [
    "import numpy as np\n",
    "import math \n",
    "from math import factorial\n",
    "n = 5\n",
    "p = 0.25\n",
    "\n",
    "def combinations(n,k):\n",
    "  return int(np.math.factorial(n)/(np.math.factorial(k)*np.math.factorial(n-k)))\n",
    "  \n",
    "def prob(n,k,p):\n",
    "  return combinations(n,k)*p**k*(1-p)**(n-k)\n",
    "\n",
    "for k in range(6):\n",
    "    a = prob(n, k, p)\n",
    "    print(a)"
   ]
  },
  {
   "cell_type": "markdown",
   "id": "b7e01667",
   "metadata": {
    "papermill": {
     "duration": 0.010116,
     "end_time": "2022-04-04T12:44:46.376627",
     "exception": false,
     "start_time": "2022-04-04T12:44:46.366511",
     "status": "completed"
    },
    "tags": []
   },
   "source": [
    "**Теперь считаем математическое ожидание и дисперсию**"
   ]
  },
  {
   "cell_type": "code",
   "execution_count": 3,
   "id": "c3608281",
   "metadata": {
    "execution": {
     "iopub.execute_input": "2022-04-04T12:44:46.403526Z",
     "iopub.status.busy": "2022-04-04T12:44:46.402473Z",
     "iopub.status.idle": "2022-04-04T12:44:46.409935Z",
     "shell.execute_reply": "2022-04-04T12:44:46.409027Z",
     "shell.execute_reply.started": "2022-04-04T12:29:51.770164Z"
    },
    "papermill": {
     "duration": 0.021549,
     "end_time": "2022-04-04T12:44:46.410140",
     "exception": false,
     "start_time": "2022-04-04T12:44:46.388591",
     "status": "completed"
    },
    "tags": []
   },
   "outputs": [
    {
     "name": "stdout",
     "output_type": "stream",
     "text": [
      "Матожидание: 1.25, дисперсия: 0.9375\n"
     ]
    }
   ],
   "source": [
    "M = n*p\n",
    "D = n*p*(1-p)\n",
    "print(f'Матожидание: {M}, дисперсия: {D}')"
   ]
  },
  {
   "cell_type": "markdown",
   "id": "9483ab76",
   "metadata": {
    "papermill": {
     "duration": 0.011584,
     "end_time": "2022-04-04T12:44:46.434067",
     "exception": false,
     "start_time": "2022-04-04T12:44:46.422483",
     "status": "completed"
    },
    "tags": []
   },
   "source": [
    "### Задача 3\n",
    "\n",
    "Пользователь получает в среднем 10 писем со спамом на свой почтовый ящик за сутки. Найти число N, такое, что с вероятностью 0.95 пользователь получит не более N писем со спамом за текущий день.\n",
    "\n"
   ]
  },
  {
   "cell_type": "code",
   "execution_count": 4,
   "id": "d11738db",
   "metadata": {
    "execution": {
     "iopub.execute_input": "2022-04-04T12:44:46.462281Z",
     "iopub.status.busy": "2022-04-04T12:44:46.461212Z",
     "iopub.status.idle": "2022-04-04T12:44:46.464102Z",
     "shell.execute_reply": "2022-04-04T12:44:46.463548Z",
     "shell.execute_reply.started": "2022-04-04T12:31:56.253074Z"
    },
    "papermill": {
     "duration": 0.018941,
     "end_time": "2022-04-04T12:44:46.464257",
     "exception": false,
     "start_time": "2022-04-04T12:44:46.445316",
     "status": "completed"
    },
    "tags": []
   },
   "outputs": [],
   "source": [
    "def poisson_distribe(k, _lambda_):\n",
    "    return (_lambda_ ** k) * (np.exp(-_lambda_)) / np.math.factorial(k)"
   ]
  },
  {
   "cell_type": "code",
   "execution_count": 5,
   "id": "0a5ee741",
   "metadata": {
    "execution": {
     "iopub.execute_input": "2022-04-04T12:44:46.492375Z",
     "iopub.status.busy": "2022-04-04T12:44:46.491394Z",
     "iopub.status.idle": "2022-04-04T12:44:46.586233Z",
     "shell.execute_reply": "2022-04-04T12:44:46.585394Z",
     "shell.execute_reply.started": "2022-04-04T12:32:20.093709Z"
    },
    "papermill": {
     "duration": 0.108948,
     "end_time": "2022-04-04T12:44:46.586542",
     "exception": true,
     "start_time": "2022-04-04T12:44:46.477594",
     "status": "failed"
    },
    "tags": []
   },
   "outputs": [
    {
     "ename": "NameError",
     "evalue": "name 'f_Poisson' is not defined",
     "output_type": "error",
     "traceback": [
      "\u001b[0;31m---------------------------------------------------------------------------\u001b[0m",
      "\u001b[0;31mNameError\u001b[0m                                 Traceback (most recent call last)",
      "\u001b[0;32m/tmp/ipykernel_19/111969325.py\u001b[0m in \u001b[0;36m<module>\u001b[0;34m\u001b[0m\n\u001b[1;32m      1\u001b[0m \u001b[0m_lambda\u001b[0m\u001b[0;34m=\u001b[0m\u001b[0;36m10\u001b[0m\u001b[0;34m\u001b[0m\u001b[0;34m\u001b[0m\u001b[0m\n\u001b[0;32m----> 2\u001b[0;31m \u001b[0;34m[\u001b[0m\u001b[0;34m(\u001b[0m\u001b[0mint\u001b[0m\u001b[0;34m(\u001b[0m\u001b[0msum\u001b[0m\u001b[0;34m(\u001b[0m\u001b[0mf_Poisson\u001b[0m\u001b[0;34m(\u001b[0m\u001b[0mk\u001b[0m \u001b[0;34m=\u001b[0m \u001b[0mi\u001b[0m\u001b[0;34m,\u001b[0m \u001b[0m_lambda_\u001b[0m\u001b[0;34m=\u001b[0m \u001b[0m_lambda\u001b[0m\u001b[0;34m)\u001b[0m \u001b[0;32mfor\u001b[0m \u001b[0mi\u001b[0m \u001b[0;32min\u001b[0m \u001b[0mrange\u001b[0m\u001b[0;34m(\u001b[0m\u001b[0mN\u001b[0m\u001b[0;34m)\u001b[0m\u001b[0;34m)\u001b[0m \u001b[0;34m*\u001b[0m \u001b[0;36m100\u001b[0m\u001b[0;34m)\u001b[0m \u001b[0;34m/\u001b[0m \u001b[0;36m100\u001b[0m\u001b[0;34m)\u001b[0m \u001b[0;34m==\u001b[0m \u001b[0;36m0.95\u001b[0m \u001b[0;32mfor\u001b[0m \u001b[0mN\u001b[0m \u001b[0;32min\u001b[0m \u001b[0mrange\u001b[0m\u001b[0;34m(\u001b[0m\u001b[0;36m100\u001b[0m\u001b[0;34m)\u001b[0m\u001b[0;34m]\u001b[0m\u001b[0;34m.\u001b[0m\u001b[0mindex\u001b[0m\u001b[0;34m(\u001b[0m\u001b[0;36m1\u001b[0m\u001b[0;34m)\u001b[0m \u001b[0;34m-\u001b[0m \u001b[0;36m1\u001b[0m\u001b[0;34m\u001b[0m\u001b[0;34m\u001b[0m\u001b[0m\n\u001b[0m",
      "\u001b[0;32m/tmp/ipykernel_19/111969325.py\u001b[0m in \u001b[0;36m<listcomp>\u001b[0;34m(.0)\u001b[0m\n\u001b[1;32m      1\u001b[0m \u001b[0m_lambda\u001b[0m\u001b[0;34m=\u001b[0m\u001b[0;36m10\u001b[0m\u001b[0;34m\u001b[0m\u001b[0;34m\u001b[0m\u001b[0m\n\u001b[0;32m----> 2\u001b[0;31m \u001b[0;34m[\u001b[0m\u001b[0;34m(\u001b[0m\u001b[0mint\u001b[0m\u001b[0;34m(\u001b[0m\u001b[0msum\u001b[0m\u001b[0;34m(\u001b[0m\u001b[0mf_Poisson\u001b[0m\u001b[0;34m(\u001b[0m\u001b[0mk\u001b[0m \u001b[0;34m=\u001b[0m \u001b[0mi\u001b[0m\u001b[0;34m,\u001b[0m \u001b[0m_lambda_\u001b[0m\u001b[0;34m=\u001b[0m \u001b[0m_lambda\u001b[0m\u001b[0;34m)\u001b[0m \u001b[0;32mfor\u001b[0m \u001b[0mi\u001b[0m \u001b[0;32min\u001b[0m \u001b[0mrange\u001b[0m\u001b[0;34m(\u001b[0m\u001b[0mN\u001b[0m\u001b[0;34m)\u001b[0m\u001b[0;34m)\u001b[0m \u001b[0;34m*\u001b[0m \u001b[0;36m100\u001b[0m\u001b[0;34m)\u001b[0m \u001b[0;34m/\u001b[0m \u001b[0;36m100\u001b[0m\u001b[0;34m)\u001b[0m \u001b[0;34m==\u001b[0m \u001b[0;36m0.95\u001b[0m \u001b[0;32mfor\u001b[0m \u001b[0mN\u001b[0m \u001b[0;32min\u001b[0m \u001b[0mrange\u001b[0m\u001b[0;34m(\u001b[0m\u001b[0;36m100\u001b[0m\u001b[0;34m)\u001b[0m\u001b[0;34m]\u001b[0m\u001b[0;34m.\u001b[0m\u001b[0mindex\u001b[0m\u001b[0;34m(\u001b[0m\u001b[0;36m1\u001b[0m\u001b[0;34m)\u001b[0m \u001b[0;34m-\u001b[0m \u001b[0;36m1\u001b[0m\u001b[0;34m\u001b[0m\u001b[0;34m\u001b[0m\u001b[0m\n\u001b[0m",
      "\u001b[0;32m/tmp/ipykernel_19/111969325.py\u001b[0m in \u001b[0;36m<genexpr>\u001b[0;34m(.0)\u001b[0m\n\u001b[1;32m      1\u001b[0m \u001b[0m_lambda\u001b[0m\u001b[0;34m=\u001b[0m\u001b[0;36m10\u001b[0m\u001b[0;34m\u001b[0m\u001b[0;34m\u001b[0m\u001b[0m\n\u001b[0;32m----> 2\u001b[0;31m \u001b[0;34m[\u001b[0m\u001b[0;34m(\u001b[0m\u001b[0mint\u001b[0m\u001b[0;34m(\u001b[0m\u001b[0msum\u001b[0m\u001b[0;34m(\u001b[0m\u001b[0mf_Poisson\u001b[0m\u001b[0;34m(\u001b[0m\u001b[0mk\u001b[0m \u001b[0;34m=\u001b[0m \u001b[0mi\u001b[0m\u001b[0;34m,\u001b[0m \u001b[0m_lambda_\u001b[0m\u001b[0;34m=\u001b[0m \u001b[0m_lambda\u001b[0m\u001b[0;34m)\u001b[0m \u001b[0;32mfor\u001b[0m \u001b[0mi\u001b[0m \u001b[0;32min\u001b[0m \u001b[0mrange\u001b[0m\u001b[0;34m(\u001b[0m\u001b[0mN\u001b[0m\u001b[0;34m)\u001b[0m\u001b[0;34m)\u001b[0m \u001b[0;34m*\u001b[0m \u001b[0;36m100\u001b[0m\u001b[0;34m)\u001b[0m \u001b[0;34m/\u001b[0m \u001b[0;36m100\u001b[0m\u001b[0;34m)\u001b[0m \u001b[0;34m==\u001b[0m \u001b[0;36m0.95\u001b[0m \u001b[0;32mfor\u001b[0m \u001b[0mN\u001b[0m \u001b[0;32min\u001b[0m \u001b[0mrange\u001b[0m\u001b[0;34m(\u001b[0m\u001b[0;36m100\u001b[0m\u001b[0;34m)\u001b[0m\u001b[0;34m]\u001b[0m\u001b[0;34m.\u001b[0m\u001b[0mindex\u001b[0m\u001b[0;34m(\u001b[0m\u001b[0;36m1\u001b[0m\u001b[0;34m)\u001b[0m \u001b[0;34m-\u001b[0m \u001b[0;36m1\u001b[0m\u001b[0;34m\u001b[0m\u001b[0;34m\u001b[0m\u001b[0m\n\u001b[0m",
      "\u001b[0;31mNameError\u001b[0m: name 'f_Poisson' is not defined"
     ]
    }
   ],
   "source": [
    "_lambda=10\n",
    "[(int(sum(f_Poisson(k = i, _lambda_= _lambda) for i in range(N)) * 100) / 100) == 0.95 for N in range(100)].index(1) - 1"
   ]
  },
  {
   "cell_type": "markdown",
   "id": "d733f158",
   "metadata": {
    "papermill": {
     "duration": null,
     "end_time": null,
     "exception": null,
     "start_time": null,
     "status": "pending"
    },
    "tags": []
   },
   "source": [
    "### Задача 4\n",
    "Производятся выстрелы по мишени. Вероятность попадания в мишень при одном выстреле равна 0.01. Сколько выстрелов нужно сделать чтобы быть уверенным с вероятностью 0.9, что хотя бы 6 раз будет совершено попадание?\n",
    "\n",
    "Подсказка: 1) \"Вероятность попасть k раз при n выстрелах\" - на какое распределение это похоже? 2) А если нам нужна вероятность P(X >= k), а не P(X = k)? 3) Здесь предстоит немножко покодить."
   ]
  },
  {
   "cell_type": "code",
   "execution_count": null,
   "id": "dfda0769",
   "metadata": {
    "execution": {
     "iopub.execute_input": "2022-04-04T12:43:39.079428Z",
     "iopub.status.busy": "2022-04-04T12:43:39.078984Z",
     "iopub.status.idle": "2022-04-04T12:43:39.260085Z",
     "shell.execute_reply": "2022-04-04T12:43:39.259169Z",
     "shell.execute_reply.started": "2022-04-04T12:43:39.079385Z"
    },
    "papermill": {
     "duration": null,
     "end_time": null,
     "exception": null,
     "start_time": null,
     "status": "pending"
    },
    "tags": []
   },
   "outputs": [],
   "source": [
    "# x  - искомая вероятность\n",
    "# p  - вероятность попадания \n",
    "# k - количество попаданий\n",
    "x = 0.9 \n",
    "p = 0.01 \n",
    "k = 6 \n",
    "n = k-1\n",
    "pn = 1\n",
    "#вычисляем количество комбинаций\n",
    "def comb_quantity(n,k): \n",
    "  return int(np.math.factorial(n)/(np.math.factorial(k)*np.math.factorial(n-k)))\n",
    "#используем формулу Бернулли  \n",
    "def binomial(n,k,p): \n",
    "  return combinations(n,k)*p**k*(1-p)**(n-k)\n",
    "while (1-pn) < x:\n",
    "  n += 1\n",
    "  pn = sum(binomial(n,i,p) for i in range(k))\n",
    "print(f'Для попадания {k} раз необходимо выстрелить {n} раз при этом вероятность наступления этого события составит: {x}')"
   ]
  }
 ],
 "metadata": {
  "kernelspec": {
   "display_name": "Python 3",
   "language": "python",
   "name": "python3"
  },
  "language_info": {
   "codemirror_mode": {
    "name": "ipython",
    "version": 3
   },
   "file_extension": ".py",
   "mimetype": "text/x-python",
   "name": "python",
   "nbconvert_exporter": "python",
   "pygments_lexer": "ipython3",
   "version": "3.7.12"
  },
  "papermill": {
   "default_parameters": {},
   "duration": 12.000147,
   "end_time": "2022-04-04T12:44:47.309764",
   "environment_variables": {},
   "exception": true,
   "input_path": "__notebook__.ipynb",
   "output_path": "__notebook__.ipynb",
   "parameters": {},
   "start_time": "2022-04-04T12:44:35.309617",
   "version": "2.3.3"
  }
 },
 "nbformat": 4,
 "nbformat_minor": 5
}
